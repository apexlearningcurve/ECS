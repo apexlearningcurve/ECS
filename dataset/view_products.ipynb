{
 "cells": [
  {
   "cell_type": "code",
   "execution_count": 2,
   "metadata": {},
   "outputs": [],
   "source": [
    "from pathlib import Path\n",
    "\n",
    "import pandas as pd\n",
    "from huggingface_hub import hf_hub_download"
   ]
  },
  {
   "cell_type": "code",
   "execution_count": 4,
   "metadata": {},
   "outputs": [],
   "source": [
    "filepath = hf_hub_download(\n",
    "    repo_id=\"apexlearningcurve/Amazon-Search-Benchmark\",\n",
    "    filename=\"sampled_item_metadata_1M_filtered.jsonl\",\n",
    "    repo_type=\"dataset\",\n",
    "    cache_dir=\"../cache\",\n",
    ")"
   ]
  },
  {
   "cell_type": "code",
   "execution_count": 5,
   "metadata": {},
   "outputs": [],
   "source": [
    "dataset_path = Path(filepath)\n",
    "df = pd.read_json(dataset_path, lines=True)"
   ]
  },
  {
   "cell_type": "code",
   "execution_count": 6,
   "metadata": {},
   "outputs": [],
   "source": [
    "def get_product_by_id(item_id: str, df: pd.DataFrame):\n",
    "    return df[df[\"item_id\"] == item_id]"
   ]
  },
  {
   "cell_type": "code",
   "execution_count": null,
   "metadata": {},
   "outputs": [],
   "source": [
    "[\n",
    "    \"B07VDWMTXB\",\n",
    "    \"B001EYIMBU\",\n",
    "    \"B005AR7VPK\",\n",
    "    \"B081V26NPQ\",\n",
    "    \"B0B3R94BMG\",\n",
    "    \"B06W2LHJC1\",\n",
    "    \"B00WQY5VDY\",\n",
    "    \"B06XCNBR66\",\n",
    "    \"B009XATAN6\",\n",
    "    \"B08HN3LSCM\",\n",
    "    \"B07S173YK5\",\n",
    "    \"B0876K19T8\",\n",
    "    \"B07SN11TM8\",\n",
    "    \"B088DHXHLT\",\n",
    "    \"B08HCP4KNN\",\n",
    "    \"B07FLPRDFT\",\n",
    "    \"B000008LE3\",\n",
    "    \"B077F4CX89\",\n",
    "    \"B00HJLAWCY\",\n",
    "    \"B0062TZRX8\",\n",
    "    \"B092P1RGMS\",\n",
    "    \"B003J234YA\",\n",
    "    \"B089LP5R4D\",\n",
    "    \"B07N67BHQS\",\n",
    "    \"B00BYO36WU\",\n",
    "    \"B06XHHN4VD\",\n",
    "    \"B07F9V78WY\",\n",
    "    \"B00MRB1MD4\",\n",
    "    \"B06Y5K4MZN\",\n",
    "    \"B07MY2LZ51\",\n",
    "    \"B083XRKP1T\",\n",
    "    \"B08P1LPCK4\",\n",
    "    \"B09ZTSRQ5B\",\n",
    "    \"B08KLL8Z28\",\n",
    "    \"B016CFIGD4\",\n",
    "    \"B010BXYFZ6\",\n",
    "    \"B0725RR223\",\n",
    "    \"B07CM8RCPJ\",\n",
    "    \"B07SB43YTP\",\n",
    "    \"B09C4MSBYP\",\n",
    "    \"B009PFBS5M\",\n",
    "    \"B00CVMHALM\",\n",
    "    \"B088CW7B1L\",\n",
    "    \"B076616R1X\",\n",
    "    \"B014TDFW9C\",\n",
    "]"
   ]
  },
  {
   "cell_type": "code",
   "execution_count": 21,
   "metadata": {},
   "outputs": [
    {
     "name": "stdout",
     "output_type": "stream",
     "text": [
      "B0725RR223\n",
      "Ortega Taco Shells Yellow Corn 12 Shells Gluten Free 5.8 Oz. Pk Of 3.\n",
      "\n",
      "Grocery & Gourmet Food\n"
     ]
    }
   ],
   "source": [
    "item_id = \"B0725RR223\"\n",
    "for col in get_product_by_id(item_id, df).values[0]:\n",
    "    print(col)"
   ]
  },
  {
   "cell_type": "code",
   "execution_count": null,
   "metadata": {},
   "outputs": [],
   "source": []
  }
 ],
 "metadata": {
  "kernelspec": {
   "display_name": ".venv",
   "language": "python",
   "name": "python3"
  },
  "language_info": {
   "codemirror_mode": {
    "name": "ipython",
    "version": 3
   },
   "file_extension": ".py",
   "mimetype": "text/x-python",
   "name": "python",
   "nbconvert_exporter": "python",
   "pygments_lexer": "ipython3",
   "version": "3.10.13"
  }
 },
 "nbformat": 4,
 "nbformat_minor": 2
}
