{
 "cells": [
  {
   "cell_type": "code",
   "execution_count": 40,
   "metadata": {},
   "outputs": [],
   "source": [
    "import os\n",
    "from math import exp\n",
    "from typing import Dict, List\n",
    "\n",
    "import tiktoken\n",
    "from openai import OpenAI"
   ]
  },
  {
   "cell_type": "markdown",
   "metadata": {},
   "source": [
    "GPT - Cross Encoder"
   ]
  },
  {
   "cell_type": "code",
   "execution_count": 4,
   "metadata": {},
   "outputs": [],
   "source": [
    "client = OpenAI(api_key=os.environ[\"OPENAI_API_KEY\"])"
   ]
  },
  {
   "cell_type": "code",
   "execution_count": 8,
   "metadata": {},
   "outputs": [
    {
     "name": "stdout",
     "output_type": "stream",
     "text": [
      "Tokenizer for gpt-4o-mini: o200k_base\n"
     ]
    }
   ],
   "source": [
    "labels = [\"Yes\", \"No\"]\n",
    "MODEL_NAME = \"gpt-4o-mini\"\n",
    "tokenizer = tiktoken.encoding_for_model(MODEL_NAME)\n",
    "print(f\"Tokenizer for {MODEL_NAME}: {tokenizer.name}\")"
   ]
  },
  {
   "cell_type": "code",
   "execution_count": 15,
   "metadata": {},
   "outputs": [
    {
     "name": "stdout",
     "output_type": "stream",
     "text": [
      "Label IDs: [[13022], [3160]]\n",
      "Logit bias: {13022: 1, 3160: 1}\n"
     ]
    }
   ],
   "source": [
    "label_ids = [tokenizer.encode(label) for label in labels]\n",
    "print(f\"Label IDs: {label_ids}\")\n",
    "logit_bias = {id[0]: 1 for id in label_ids if len(id) == 1}\n",
    "print(f\"Logit bias: {logit_bias}\")"
   ]
  },
  {
   "cell_type": "code",
   "execution_count": 14,
   "metadata": {},
   "outputs": [],
   "source": [
    "ECOMMERCE_RANKING_PROMPT = '''\n",
    "You are an Assistant responsible for helping detect whether the retrieved product is relevant to the query. For a given input, you need to output a single token: \"Yes\" or \"No\" indicating the retrieved product is relevant to the query.\n",
    "\n",
    "Query: How to plant a tree?\n",
    "Product Text: \"\"\"Cars were invented in 1886, when German inventor Carl Benz patented his Benz Patent-Motorwagen.[3][4][5] Cars became widely available during the 20th century. One of the first cars affordable by the masses was the 1908 Model T, an American car manufactured by the Ford Motor Company. Cars were rapidly adopted in the US, where they replaced horse-drawn carriages.[6] In Europe and other parts of the world, demand for automobiles did not increase until after World War II.[7] The car is considered an essential part of the developed economy.\"\"\"\n",
    "Relevant: No\n",
    "\n",
    "Query: Has the coronavirus vaccine been approved?\n",
    "Product Text: \"\"\"The Pfizer-BioNTech COVID-19 vaccine was approved for emergency use in the United States on December 11, 2020.\"\"\"\n",
    "Relevant: Yes\n",
    "\n",
    "Query: What is the capital of France?\n",
    "Product Text: \"\"\"Paris, France's capital, is a major European city and a global center for art, fashion, gastronomy and culture. Its 19th-century cityscape is crisscrossed by wide boulevards and the River Seine. Beyond such landmarks as the Eiffel Tower and the 12th-century, Gothic Notre-Dame cathedral, the city is known for its cafe culture and designer boutiques along the Rue du Faubourg Saint-Honoré.\"\"\"\n",
    "Relevant: Yes\n",
    "\n",
    "Query: What are some papers to learn about PPO reinforcement learning?\n",
    "Product Text: \"\"\"Proximal Policy Optimization and its Dynamic Version for Sequence Generation: In sequence generation task, many works use policy gradient for model optimization to tackle the intractable backpropagation issue when maximizing the non-differentiable evaluation metrics or fooling the discriminator in adversarial learning. In this paper, we replace policy gradient with proximal policy optimization (PPO), which is a proved more efficient reinforcement learning algorithm, and propose a dynamic approach for PPO (PPO-dynamic). We demonstrate the efficacy of PPO and PPO-dynamic on conditional sequence generation tasks including synthetic experiment and chit-chat chatbot. The results show that PPO and PPO-dynamic can beat policy gradient by stability and performance.\"\"\"\n",
    "Relevant: Yes\n",
    "\n",
    "Query: Explain sentence embeddings\n",
    "Product Text: \"\"\"Inside the bubble: exploring the environments of reionisation-era Lyman-α emitting galaxies with JADES and FRESCO: We present a study of the environments of 16 Lyman-α emitting galaxies (LAEs) in the reionisation era (5.8<z<8) identified by JWST/NIRSpec as part of the JWST Advanced Deep Extragalactic Survey (JADES). Unless situated in sufficiently (re)ionised regions, Lyman-α emission from these galaxies would be strongly absorbed by neutral gas in the intergalactic medium (IGM). We conservatively estimate sizes of the ionised regions required to reconcile the relatively low Lyman-α velocity offsets (ΔvLyα<300kms−1) with moderately high Lyman-α escape fractions (fesc,Lyα>5%) observed in our sample of LAEs, indicating the presence of ionised ``bubbles'' with physical sizes of the order of 0.1pMpc≲Rion≲1pMpc in a patchy reionisation scenario where the bubbles are embedded in a fully neutral IGM. Around half of the LAEs in our sample are found to coincide with large-scale galaxy overdensities seen in FRESCO at z∼5.8-5.9 and z∼7.3, suggesting Lyman-α transmission is strongly enhanced in such overdense regions, and underlining the importance of LAEs as tracers of the first large-scale ionised bubbles. Considering only spectroscopically confirmed galaxies, we find our sample of UV-faint LAEs (MUV≳−20mag) and their direct neighbours are generally not able to produce the required ionised regions based on the Lyman-α transmission properties, suggesting lower-luminosity sources likely play an important role in carving out these bubbles. These observations demonstrate the combined power of JWST multi-object and slitless spectroscopy in acquiring a unique view of the early stages of Cosmic Reionisation via the most distant LAEs.\"\"\"\n",
    "Relevant: No\n",
    "\n",
    "Query: {query}\n",
    "Product Text: \"\"\"{product_text}\"\"\"\n",
    "Relevant:\n",
    "'''"
   ]
  },
  {
   "cell_type": "code",
   "execution_count": 36,
   "metadata": {},
   "outputs": [],
   "source": [
    "def product_relevance(\n",
    "    client: OpenAI,\n",
    "    prompt: str,\n",
    "    model: str = MODEL_NAME,\n",
    "    temperature: float = 0.0,\n",
    "    logprobs: bool = True,\n",
    "    logit_bias: Dict[int, int] = None,\n",
    "    max_tokens: int = 1,\n",
    "):\n",
    "    response = client.chat.completions.create(\n",
    "        model=model,\n",
    "        messages=[\n",
    "            {\"role\": \"system\", \"content\": prompt},\n",
    "        ],\n",
    "        temperature=temperature,\n",
    "        logprobs=logprobs,\n",
    "        logit_bias=logit_bias,\n",
    "        max_tokens=max_tokens,\n",
    "    )\n",
    "\n",
    "    return response"
   ]
  },
  {
   "cell_type": "code",
   "execution_count": 37,
   "metadata": {},
   "outputs": [],
   "source": [
    "query = \"\"\n",
    "product_text = \"\""
   ]
  },
  {
   "cell_type": "code",
   "execution_count": 38,
   "metadata": {},
   "outputs": [],
   "source": [
    "responses = product_relevance(\n",
    "    client,\n",
    "    ECOMMERCE_RANKING_PROMPT.format(query=query, product_text=product_text),\n",
    "    logit_bias=logit_bias,\n",
    ")"
   ]
  },
  {
   "cell_type": "code",
   "execution_count": 41,
   "metadata": {},
   "outputs": [
    {
     "name": "stdout",
     "output_type": "stream",
     "text": [
      "Label: No with logprob: -3.1737043e-06 - probability: 0.9999968263007362\n"
     ]
    }
   ],
   "source": [
    "label = responses.choices[0].message.content\n",
    "logprob = responses.choices[0].logprobs.content[0].logprob\n",
    "print(f\"Label: {label} with logprob: {logprob} - probability: {exp(logprob)}\")"
   ]
  },
  {
   "cell_type": "code",
   "execution_count": null,
   "metadata": {},
   "outputs": [],
   "source": []
  }
 ],
 "metadata": {
  "kernelspec": {
   "display_name": ".venv",
   "language": "python",
   "name": "python3"
  },
  "language_info": {
   "codemirror_mode": {
    "name": "ipython",
    "version": 3
   },
   "file_extension": ".py",
   "mimetype": "text/x-python",
   "name": "python",
   "nbconvert_exporter": "python",
   "pygments_lexer": "ipython3",
   "version": "3.10.13"
  }
 },
 "nbformat": 4,
 "nbformat_minor": 2
}
