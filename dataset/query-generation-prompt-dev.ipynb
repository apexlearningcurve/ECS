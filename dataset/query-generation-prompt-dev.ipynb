{
 "cells": [
  {
   "cell_type": "markdown",
   "metadata": {},
   "source": [
    "## Fix category(file_name) "
   ]
  },
  {
   "cell_type": "code",
   "execution_count": 1,
   "metadata": {},
   "outputs": [],
   "source": [
    "from pathlib import Path\n",
    "\n",
    "import pandas as pd\n",
    "from huggingface_hub import hf_hub_download, upload_file"
   ]
  },
  {
   "cell_type": "code",
   "execution_count": 2,
   "metadata": {},
   "outputs": [],
   "source": [
    "cache_dir = Path(\"cache\")\n",
    "assert cache_dir.exists(), f\"Cache directory {cache_dir} does not exist\""
   ]
  },
  {
   "cell_type": "code",
   "execution_count": 3,
   "metadata": {},
   "outputs": [],
   "source": [
    "REPO_ID = \"apexlearningcurve/Amazon-Search-Benchmark\"\n",
    "filepath = hf_hub_download(\n",
    "    repo_id=REPO_ID,\n",
    "    filename=\"sampled_item_metadata_1M_filtered.jsonl\",\n",
    "    repo_type=\"dataset\",\n",
    "    cache_dir=cache_dir,\n",
    ")"
   ]
  },
  {
   "cell_type": "code",
   "execution_count": 4,
   "metadata": {},
   "outputs": [
    {
     "name": "stdout",
     "output_type": "stream",
     "text": [
      "Number of data rows: 1055136\n"
     ]
    },
    {
     "data": {
      "text/html": [
       "<div>\n",
       "<style scoped>\n",
       "    .dataframe tbody tr th:only-of-type {\n",
       "        vertical-align: middle;\n",
       "    }\n",
       "\n",
       "    .dataframe tbody tr th {\n",
       "        vertical-align: top;\n",
       "    }\n",
       "\n",
       "    .dataframe thead th {\n",
       "        text-align: right;\n",
       "    }\n",
       "</style>\n",
       "<table border=\"1\" class=\"dataframe\">\n",
       "  <thead>\n",
       "    <tr style=\"text-align: right;\">\n",
       "      <th></th>\n",
       "      <th>item_id</th>\n",
       "      <th>title</th>\n",
       "      <th>description</th>\n",
       "      <th>file_name</th>\n",
       "    </tr>\n",
       "  </thead>\n",
       "  <tbody>\n",
       "    <tr>\n",
       "      <th>0</th>\n",
       "      <td>B0007YMVOC</td>\n",
       "      <td>Warriors of Wrestling (The Biggest,Baddest,Mea...</td>\n",
       "      <td>The Biggest, meanest and bad wrestlers of all ...</td>\n",
       "      <td>Movies &amp; TV</td>\n",
       "    </tr>\n",
       "    <tr>\n",
       "      <th>1</th>\n",
       "      <td>B004KPUHPE</td>\n",
       "      <td>Nowhere Boy</td>\n",
       "      <td>The story of former Beatle John Lennon's teen ...</td>\n",
       "      <td>Movies &amp; TV</td>\n",
       "    </tr>\n",
       "    <tr>\n",
       "      <th>2</th>\n",
       "      <td>B0015OIFPC</td>\n",
       "      <td>Malos Habitos [Ntsc/region 1 &amp; 4 Dvd. Import-l...</td>\n",
       "      <td>La fe, el amor y la banidad son puestos a prue...</td>\n",
       "      <td>Movies &amp; TV</td>\n",
       "    </tr>\n",
       "    <tr>\n",
       "      <th>3</th>\n",
       "      <td>B00KG2QONE</td>\n",
       "      <td>House of Dust</td>\n",
       "      <td>A serial killer's ghost terrorizes a group of ...</td>\n",
       "      <td>Movies &amp; TV</td>\n",
       "    </tr>\n",
       "    <tr>\n",
       "      <th>4</th>\n",
       "      <td>B00AVSERBE</td>\n",
       "      <td>20 Country Love Songs Volume 2</td>\n",
       "      <td>This DVD compilation features 20 more classic ...</td>\n",
       "      <td>Movies &amp; TV</td>\n",
       "    </tr>\n",
       "  </tbody>\n",
       "</table>\n",
       "</div>"
      ],
      "text/plain": [
       "      item_id                                              title  \\\n",
       "0  B0007YMVOC  Warriors of Wrestling (The Biggest,Baddest,Mea...   \n",
       "1  B004KPUHPE                                        Nowhere Boy   \n",
       "2  B0015OIFPC  Malos Habitos [Ntsc/region 1 & 4 Dvd. Import-l...   \n",
       "3  B00KG2QONE                                      House of Dust   \n",
       "4  B00AVSERBE                     20 Country Love Songs Volume 2   \n",
       "\n",
       "                                         description    file_name  \n",
       "0  The Biggest, meanest and bad wrestlers of all ...  Movies & TV  \n",
       "1  The story of former Beatle John Lennon's teen ...  Movies & TV  \n",
       "2  La fe, el amor y la banidad son puestos a prue...  Movies & TV  \n",
       "3  A serial killer's ghost terrorizes a group of ...  Movies & TV  \n",
       "4  This DVD compilation features 20 more classic ...  Movies & TV  "
      ]
     },
     "execution_count": 4,
     "metadata": {},
     "output_type": "execute_result"
    }
   ],
   "source": [
    "df_products = pd.read_json(filepath, lines=True)\n",
    "print(f\"Number of data rows: {len(df_products)}\")\n",
    "df_products.head()"
   ]
  },
  {
   "cell_type": "code",
   "execution_count": 5,
   "metadata": {},
   "outputs": [
    {
     "data": {
      "text/plain": [
       "['Movies & TV',\n",
       " 'Books',\n",
       " 'Electronics',\n",
       " 'Gift Cards',\n",
       " 'Office Products',\n",
       " 'Appliances',\n",
       " 'Clothing Shoes & Jewelry',\n",
       " 'Handmade Products',\n",
       " 'CDs & Vinyl',\n",
       " 'Beauty & Personal Care',\n",
       " 'Home & Kitchen',\n",
       " 'Grocery & Gourmet Food',\n",
       " 'Industrial & Scientific',\n",
       " 'Health & Personal Care',\n",
       " 'Cell Phones & Accessories',\n",
       " 'Tools & Home Improvement',\n",
       " 'Musical Instruments',\n",
       " 'Video Games',\n",
       " 'Automotive',\n",
       " 'Magazine Subscriptions',\n",
       " 'Health & Household',\n",
       " 'Amazon Fashion',\n",
       " 'Baby Products',\n",
       " 'Sports & Outdoors',\n",
       " 'All Beauty',\n",
       " 'Pet Supplies',\n",
       " 'Arts Crafts & Sewing',\n",
       " 'Kindle Store',\n",
       " 'Toys & Games',\n",
       " 'Software',\n",
       " 'Patio Lawn & Garden']"
      ]
     },
     "execution_count": 5,
     "metadata": {},
     "output_type": "execute_result"
    }
   ],
   "source": [
    "category_names = df_products[\"file_name\"].unique().tolist()\n",
    "category_names"
   ]
  },
  {
   "cell_type": "code",
   "execution_count": 9,
   "metadata": {},
   "outputs": [],
   "source": [
    "def fix_file_name(x):\n",
    "    if x[\"file_name\"] == \"H&made Products\":\n",
    "        x[\"file_name\"] = \"Handmade Products\"\n",
    "\n",
    "    return x\n",
    "\n",
    "\n",
    "df_products_fixed = df_products.apply(fix_file_name, axis=1)"
   ]
  },
  {
   "cell_type": "code",
   "execution_count": null,
   "metadata": {},
   "outputs": [],
   "source": [
    "df_products_fixed[\"file_name\"].value_counts()"
   ]
  },
  {
   "cell_type": "code",
   "execution_count": 12,
   "metadata": {},
   "outputs": [],
   "source": [
    "df_products_fixed.to_json(\n",
    "    \"sampled_item_metadata_1M_filtered.jsonl\", orient=\"records\", lines=True\n",
    ")"
   ]
  },
  {
   "cell_type": "code",
   "execution_count": null,
   "metadata": {},
   "outputs": [],
   "source": [
    "upload_file(\n",
    "    path_or_fileobj=\"sampled_item_metadata_1M_filtered.jsonl\",\n",
    "    path_in_repo=\"sampled_item_metadata_1M_filtered.jsonl\",  # Same filename in the repo\n",
    "    repo_id=REPO_ID,  # Your repo ID\n",
    "    repo_type=\"dataset\",\n",
    "    commit_message=\"Fix file_name '&'->'and'\",\n",
    ")"
   ]
  },
  {
   "cell_type": "markdown",
   "metadata": {},
   "source": [
    "## Prompt engineering for query generation"
   ]
  },
  {
   "cell_type": "code",
   "execution_count": 1,
   "metadata": {},
   "outputs": [],
   "source": [
    "import os\n",
    "from pathlib import Path\n",
    "from pprint import pprint\n",
    "\n",
    "import ipywidgets as widgets\n",
    "import numpy as np\n",
    "import pandas as pd\n",
    "from huggingface_hub import hf_hub_download\n",
    "from openai import OpenAI\n",
    "from prompts import BOOKS_PROMPT, QUERY_GENERATION_PROMPT\n",
    "from response_structure import ResponseStructure"
   ]
  },
  {
   "cell_type": "code",
   "execution_count": 3,
   "metadata": {},
   "outputs": [],
   "source": [
    "client = OpenAI(api_key=os.environ[\"OPENAI_API_KEY\"])"
   ]
  },
  {
   "cell_type": "markdown",
   "metadata": {},
   "source": [
    "#### Sample n products from specific category"
   ]
  },
  {
   "cell_type": "code",
   "execution_count": 4,
   "metadata": {},
   "outputs": [],
   "source": [
    "def sample_products_from_category(\n",
    "    num_samples: int, category: str, df: pd.DataFrame\n",
    ") -> pd.DataFrame:\n",
    "    df_category = df[df[\"file_name\"] == category]\n",
    "    n_total = len(df_category)\n",
    "    sample = np.random.choice(n_total, num_samples, replace=False)\n",
    "    return df_category.iloc[sample]"
   ]
  },
  {
   "cell_type": "code",
   "execution_count": 5,
   "metadata": {},
   "outputs": [],
   "source": [
    "cache_dir = Path(\"cache\")\n",
    "assert cache_dir.exists(), f\"Cache directory {cache_dir} does not exist\""
   ]
  },
  {
   "cell_type": "code",
   "execution_count": 6,
   "metadata": {},
   "outputs": [],
   "source": [
    "filepath = hf_hub_download(\n",
    "    repo_id=\"apexlearningcurve/Amazon-Search-Benchmark\",\n",
    "    filename=\"sampled_item_metadata_1M_filtered.jsonl\",\n",
    "    repo_type=\"dataset\",\n",
    "    cache_dir=cache_dir,\n",
    ")"
   ]
  },
  {
   "cell_type": "code",
   "execution_count": 7,
   "metadata": {},
   "outputs": [
    {
     "name": "stdout",
     "output_type": "stream",
     "text": [
      "Number of data rows: 1055136\n"
     ]
    },
    {
     "data": {
      "text/html": [
       "<div>\n",
       "<style scoped>\n",
       "    .dataframe tbody tr th:only-of-type {\n",
       "        vertical-align: middle;\n",
       "    }\n",
       "\n",
       "    .dataframe tbody tr th {\n",
       "        vertical-align: top;\n",
       "    }\n",
       "\n",
       "    .dataframe thead th {\n",
       "        text-align: right;\n",
       "    }\n",
       "</style>\n",
       "<table border=\"1\" class=\"dataframe\">\n",
       "  <thead>\n",
       "    <tr style=\"text-align: right;\">\n",
       "      <th></th>\n",
       "      <th>item_id</th>\n",
       "      <th>title</th>\n",
       "      <th>description</th>\n",
       "      <th>file_name</th>\n",
       "    </tr>\n",
       "  </thead>\n",
       "  <tbody>\n",
       "    <tr>\n",
       "      <th>0</th>\n",
       "      <td>B0007YMVOC</td>\n",
       "      <td>Warriors of Wrestling (The Biggest,Baddest,Mea...</td>\n",
       "      <td>The Biggest, meanest and bad wrestlers of all ...</td>\n",
       "      <td>Movies &amp; TV</td>\n",
       "    </tr>\n",
       "    <tr>\n",
       "      <th>1</th>\n",
       "      <td>B004KPUHPE</td>\n",
       "      <td>Nowhere Boy</td>\n",
       "      <td>The story of former Beatle John Lennon's teen ...</td>\n",
       "      <td>Movies &amp; TV</td>\n",
       "    </tr>\n",
       "    <tr>\n",
       "      <th>2</th>\n",
       "      <td>B0015OIFPC</td>\n",
       "      <td>Malos Habitos [Ntsc/region 1 &amp; 4 Dvd. Import-l...</td>\n",
       "      <td>La fe, el amor y la banidad son puestos a prue...</td>\n",
       "      <td>Movies &amp; TV</td>\n",
       "    </tr>\n",
       "    <tr>\n",
       "      <th>3</th>\n",
       "      <td>B00KG2QONE</td>\n",
       "      <td>House of Dust</td>\n",
       "      <td>A serial killer's ghost terrorizes a group of ...</td>\n",
       "      <td>Movies &amp; TV</td>\n",
       "    </tr>\n",
       "    <tr>\n",
       "      <th>4</th>\n",
       "      <td>B00AVSERBE</td>\n",
       "      <td>20 Country Love Songs Volume 2</td>\n",
       "      <td>This DVD compilation features 20 more classic ...</td>\n",
       "      <td>Movies &amp; TV</td>\n",
       "    </tr>\n",
       "  </tbody>\n",
       "</table>\n",
       "</div>"
      ],
      "text/plain": [
       "      item_id                                              title  \\\n",
       "0  B0007YMVOC  Warriors of Wrestling (The Biggest,Baddest,Mea...   \n",
       "1  B004KPUHPE                                        Nowhere Boy   \n",
       "2  B0015OIFPC  Malos Habitos [Ntsc/region 1 & 4 Dvd. Import-l...   \n",
       "3  B00KG2QONE                                      House of Dust   \n",
       "4  B00AVSERBE                     20 Country Love Songs Volume 2   \n",
       "\n",
       "                                         description    file_name  \n",
       "0  The Biggest, meanest and bad wrestlers of all ...  Movies & TV  \n",
       "1  The story of former Beatle John Lennon's teen ...  Movies & TV  \n",
       "2  La fe, el amor y la banidad son puestos a prue...  Movies & TV  \n",
       "3  A serial killer's ghost terrorizes a group of ...  Movies & TV  \n",
       "4  This DVD compilation features 20 more classic ...  Movies & TV  "
      ]
     },
     "execution_count": 7,
     "metadata": {},
     "output_type": "execute_result"
    }
   ],
   "source": [
    "df_products = pd.read_json(filepath, lines=True)\n",
    "print(f\"Number of data rows: {len(df_products)}\")\n",
    "df_products.head()"
   ]
  },
  {
   "cell_type": "markdown",
   "metadata": {},
   "source": [
    "❗❗ note: maybe check size of product description and write a function to cut-off at specified length"
   ]
  },
  {
   "cell_type": "code",
   "execution_count": 8,
   "metadata": {},
   "outputs": [],
   "source": [
    "def extract_text_from_product(product: pd.DataFrame) -> str:\n",
    "    return f\"\"\"{product[\"title\"]}\\n\\n{product[\"description\"]}\\n\\nproduct category: {product[\"file_name\"]}\"\"\""
   ]
  },
  {
   "cell_type": "code",
   "execution_count": 9,
   "metadata": {},
   "outputs": [
    {
     "data": {
      "text/plain": [
       "file_name\n",
       "Home & Kitchen               170042\n",
       "Clothing Shoes & Jewelry     144654\n",
       "Electronics                   76918\n",
       "Tools & Home Improvement      71809\n",
       "Health & Household            64902\n",
       "Beauty & Personal Care        64878\n",
       "Kindle Store                  55726\n",
       "Pet Supplies                  44988\n",
       "Automotive                    41962\n",
       "Patio Lawn & Garden           41814\n",
       "Books                         37929\n",
       "Sports & Outdoors             37628\n",
       "Toys & Games                  37016\n",
       "Cell Phones & Accessories     34295\n",
       "Office Products               28864\n",
       "Grocery & Gourmet Food        27619\n",
       "Arts Crafts & Sewing          19033\n",
       "Baby Products                 12265\n",
       "Industrial & Scientific       12005\n",
       "Video Games                    7441\n",
       "Musical Instruments            6073\n",
       "Appliances                     4575\n",
       "Movies & TV                    4357\n",
       "CDs & Vinyl                    2190\n",
       "Handmade Products              1976\n",
       "Amazon Fashion                 1477\n",
       "Software                        856\n",
       "Health & Personal Care          763\n",
       "All Beauty                      711\n",
       "Gift Cards                      268\n",
       "Magazine Subscriptions          102\n",
       "Name: count, dtype: int64"
      ]
     },
     "execution_count": 9,
     "metadata": {},
     "output_type": "execute_result"
    }
   ],
   "source": [
    "category_names = df_products[\"file_name\"].unique().tolist()\n",
    "category_names\n",
    "df_products[\"file_name\"].value_counts()"
   ]
  },
  {
   "cell_type": "code",
   "execution_count": 88,
   "metadata": {},
   "outputs": [
    {
     "data": {
      "application/vnd.jupyter.widget-view+json": {
       "model_id": "b9624972218141fcb8c976d540819011",
       "version_major": 2,
       "version_minor": 0
      },
      "text/plain": [
       "Dropdown(description='category name', options=('Movies & TV', 'Books', 'Electronics', 'Gift Cards', 'Office Pr…"
      ]
     },
     "metadata": {},
     "output_type": "display_data"
    },
    {
     "data": {
      "application/vnd.jupyter.widget-view+json": {
       "model_id": "3af0209b5d9f467582e23da96333420b",
       "version_major": 2,
       "version_minor": 0
      },
      "text/plain": [
       "IntSlider(value=30, continuous_update=False, description='num samples', min=1)"
      ]
     },
     "metadata": {},
     "output_type": "display_data"
    }
   ],
   "source": [
    "category = widgets.Dropdown(\n",
    "    options=category_names,\n",
    "    value=category_names[0],\n",
    "    description=\"category name\",\n",
    "    disabled=False,\n",
    ")\n",
    "num_samples = widgets.IntSlider(\n",
    "    value=30,\n",
    "    min=1,\n",
    "    max=100,\n",
    "    step=1,\n",
    "    description=\"num samples\",\n",
    "    disabled=False,\n",
    "    continuous_update=False,\n",
    "    orientation=\"horizontal\",\n",
    "    readout=True,\n",
    "    readout_format=\"d\",\n",
    ")\n",
    "display(category)\n",
    "display(num_samples)"
   ]
  },
  {
   "cell_type": "code",
   "execution_count": 92,
   "metadata": {},
   "outputs": [
    {
     "data": {
      "text/html": [
       "<div>\n",
       "<style scoped>\n",
       "    .dataframe tbody tr th:only-of-type {\n",
       "        vertical-align: middle;\n",
       "    }\n",
       "\n",
       "    .dataframe tbody tr th {\n",
       "        vertical-align: top;\n",
       "    }\n",
       "\n",
       "    .dataframe thead th {\n",
       "        text-align: right;\n",
       "    }\n",
       "</style>\n",
       "<table border=\"1\" class=\"dataframe\">\n",
       "  <thead>\n",
       "    <tr style=\"text-align: right;\">\n",
       "      <th></th>\n",
       "      <th>item_id</th>\n",
       "      <th>title</th>\n",
       "      <th>description</th>\n",
       "      <th>file_name</th>\n",
       "    </tr>\n",
       "  </thead>\n",
       "  <tbody>\n",
       "    <tr>\n",
       "      <th>82922</th>\n",
       "      <td>B071JBRN4K</td>\n",
       "      <td>YMIX Macbook Pro 13\" Case Non-Retina,Folio Emb...</td>\n",
       "      <td></td>\n",
       "      <td>Electronics</td>\n",
       "    </tr>\n",
       "    <tr>\n",
       "      <th>53395</th>\n",
       "      <td>B01IY5644I</td>\n",
       "      <td>Super Antenna FF1B Frequency Flag Weatherproof...</td>\n",
       "      <td>Super Antenna FF1B Frequency Flag weatherproof...</td>\n",
       "      <td>Electronics</td>\n",
       "    </tr>\n",
       "    <tr>\n",
       "      <th>110945</th>\n",
       "      <td>B012UE7SGW</td>\n",
       "      <td>Uniden DB9 Serial Cable For Scanner Models BC2...</td>\n",
       "      <td>Uniden DB9 Serial Cable For Scanner Models BC2...</td>\n",
       "      <td>Electronics</td>\n",
       "    </tr>\n",
       "    <tr>\n",
       "      <th>83226</th>\n",
       "      <td>B00A4QB4SW</td>\n",
       "      <td>TR TY-147 140 mm, PWM fan, low noise emission.</td>\n",
       "      <td>*The TY Series Fan can be pluged into the 3 pi...</td>\n",
       "      <td>Electronics</td>\n",
       "    </tr>\n",
       "    <tr>\n",
       "      <th>56410</th>\n",
       "      <td>B08B3MSC5F</td>\n",
       "      <td>[2 Pack] Silicone Protective Cover for NVIDIA ...</td>\n",
       "      <td>This Remote Case for your NVIDIA Shield TV Pro...</td>\n",
       "      <td>Electronics</td>\n",
       "    </tr>\n",
       "    <tr>\n",
       "      <th>42439</th>\n",
       "      <td>B0B48NWZ3L</td>\n",
       "      <td>Taken 16.5ft Charging Cable, Quick Charge Powe...</td>\n",
       "      <td>Taken quick charge 3.0 Power Adapter for Arlo ...</td>\n",
       "      <td>Electronics</td>\n",
       "    </tr>\n",
       "    <tr>\n",
       "      <th>87361</th>\n",
       "      <td>B005HB7ZKU</td>\n",
       "      <td>Mitsubishi WD-62628 rear projector TV lamp wit...</td>\n",
       "      <td></td>\n",
       "      <td>Electronics</td>\n",
       "    </tr>\n",
       "    <tr>\n",
       "      <th>107147</th>\n",
       "      <td>B00IEEGKY4</td>\n",
       "      <td>BenQ 5J.J7L25.002 BenQ 144hz DLP Link 3D Glass...</td>\n",
       "      <td>BenQ 3D Glasses - D4. Enjoy the Fantastic New ...</td>\n",
       "      <td>Electronics</td>\n",
       "    </tr>\n",
       "    <tr>\n",
       "      <th>76138</th>\n",
       "      <td>0965321002</td>\n",
       "      <td>A Small Percentage (Small Percentage, 1)</td>\n",
       "      <td>Review\\n\"Science fiction has gained a bold new...</td>\n",
       "      <td>Electronics</td>\n",
       "    </tr>\n",
       "    <tr>\n",
       "      <th>47490</th>\n",
       "      <td>B07K2ZDZVG</td>\n",
       "      <td>Dreamvasion USB-C Extension Cable 6ft, Type C ...</td>\n",
       "      <td></td>\n",
       "      <td>Electronics</td>\n",
       "    </tr>\n",
       "    <tr>\n",
       "      <th>100299</th>\n",
       "      <td>B08DLJB25F</td>\n",
       "      <td>65W AC Adapter Laptop Charger for Acer Aspire ...</td>\n",
       "      <td></td>\n",
       "      <td>Electronics</td>\n",
       "    </tr>\n",
       "    <tr>\n",
       "      <th>68202</th>\n",
       "      <td>B08BTVZJQ7</td>\n",
       "      <td>Geekria Earpad + Headband Compatible with Senn...</td>\n",
       "      <td>Mistakes Happen. We've Got You Covered.\\nWith ...</td>\n",
       "      <td>Electronics</td>\n",
       "    </tr>\n",
       "    <tr>\n",
       "      <th>52597</th>\n",
       "      <td>B077QQ9NKN</td>\n",
       "      <td>Polaroid Leatherette Case (Pink) for Polaroid ...</td>\n",
       "      <td>Pretty AND practical the perfect pair for your...</td>\n",
       "      <td>Electronics</td>\n",
       "    </tr>\n",
       "    <tr>\n",
       "      <th>94716</th>\n",
       "      <td>B00U5NQJ0M</td>\n",
       "      <td>NIKON Camera Shoe Cover ASC-01 from Japan</td>\n",
       "      <td></td>\n",
       "      <td>Electronics</td>\n",
       "    </tr>\n",
       "    <tr>\n",
       "      <th>63285</th>\n",
       "      <td>B0894Y9T6N</td>\n",
       "      <td>Wireless Keyboard Mouse Combo, 2.4GHz Slim Ful...</td>\n",
       "      <td></td>\n",
       "      <td>Electronics</td>\n",
       "    </tr>\n",
       "    <tr>\n",
       "      <th>115684</th>\n",
       "      <td>B08PJ22C7N</td>\n",
       "      <td>Dell Optiplex 9020 Small Form Factor Desktop P...</td>\n",
       "      <td>Dell Optiplex 9020 Small Form Factor Desktop P...</td>\n",
       "      <td>Electronics</td>\n",
       "    </tr>\n",
       "    <tr>\n",
       "      <th>79348</th>\n",
       "      <td>B000F9EVDS</td>\n",
       "      <td>16X Write-Once DVD+r Spindle</td>\n",
       "      <td>25 Spindle Pack / DVD+R / Up to 16x burning sp...</td>\n",
       "      <td>Electronics</td>\n",
       "    </tr>\n",
       "    <tr>\n",
       "      <th>58795</th>\n",
       "      <td>B000FSQ858</td>\n",
       "      <td>Micro Connectors, Inc. 10 feet USB 2.0 Extensi...</td>\n",
       "      <td>This cable extends the distance of your USB ca...</td>\n",
       "      <td>Electronics</td>\n",
       "    </tr>\n",
       "    <tr>\n",
       "      <th>105523</th>\n",
       "      <td>B07CVCWYKD</td>\n",
       "      <td>15x15x4 mm Super Small Brushless DC Fan Ultra ...</td>\n",
       "      <td></td>\n",
       "      <td>Electronics</td>\n",
       "    </tr>\n",
       "    <tr>\n",
       "      <th>118173</th>\n",
       "      <td>B07NQFQH8N</td>\n",
       "      <td>TV Remote Case for Apple TV Siri Remote 4K, 4t...</td>\n",
       "      <td>LOUTOC TV Remote Case for Apple TV Siri Remote...</td>\n",
       "      <td>Electronics</td>\n",
       "    </tr>\n",
       "    <tr>\n",
       "      <th>48283</th>\n",
       "      <td>B08YF1VBYD</td>\n",
       "      <td>DOSS Bluetooth Speaker, SoundBox Touch Portabl...</td>\n",
       "      <td></td>\n",
       "      <td>Electronics</td>\n",
       "    </tr>\n",
       "    <tr>\n",
       "      <th>77183</th>\n",
       "      <td>B09NJLJJ4X</td>\n",
       "      <td>MYPIN Video to Digital Converter, 4.3\" AV Vide...</td>\n",
       "      <td></td>\n",
       "      <td>Electronics</td>\n",
       "    </tr>\n",
       "    <tr>\n",
       "      <th>119029</th>\n",
       "      <td>B06XPZHCBD</td>\n",
       "      <td>KINGEAR PDK0025 2.7 Inch LCD Cameras 16MP Digi...</td>\n",
       "      <td>Specification:\\n* Image Sensor: 5.0 Mega Pixel...</td>\n",
       "      <td>Electronics</td>\n",
       "    </tr>\n",
       "    <tr>\n",
       "      <th>77105</th>\n",
       "      <td>B00KR5A1JS</td>\n",
       "      <td>Optimum Orbis Mini Displayport to VGA Adapter ...</td>\n",
       "      <td></td>\n",
       "      <td>Electronics</td>\n",
       "    </tr>\n",
       "    <tr>\n",
       "      <th>77168</th>\n",
       "      <td>B09GF8B3QN</td>\n",
       "      <td>GELRHONR 3.5mm Stereo Male to RCA Adapter,Gold...</td>\n",
       "      <td>3.5mm Male to Male Audio Plug Extension Cable ...</td>\n",
       "      <td>Electronics</td>\n",
       "    </tr>\n",
       "    <tr>\n",
       "      <th>94893</th>\n",
       "      <td>B07NV91GZS</td>\n",
       "      <td>DROGO 6.75\" StandX Replacement Antenna for Jee...</td>\n",
       "      <td></td>\n",
       "      <td>Electronics</td>\n",
       "    </tr>\n",
       "    <tr>\n",
       "      <th>91558</th>\n",
       "      <td>B00CWJPHU0</td>\n",
       "      <td>Meffort Inc 17 17.3 Inch Neoprene Laptop Bag w...</td>\n",
       "      <td></td>\n",
       "      <td>Electronics</td>\n",
       "    </tr>\n",
       "    <tr>\n",
       "      <th>67117</th>\n",
       "      <td>B00Q5XY2YQ</td>\n",
       "      <td>Peak Design Anchor Links Camera Strap with Qui...</td>\n",
       "      <td>Got a camera neck strap that you absolutely lo...</td>\n",
       "      <td>Electronics</td>\n",
       "    </tr>\n",
       "    <tr>\n",
       "      <th>82292</th>\n",
       "      <td>B01KSYGL6Y</td>\n",
       "      <td>UpBright AC/DC Adapter Compatible with Razor H...</td>\n",
       "      <td>UpBright New Global 29.4V AC / DC Adapter Comp...</td>\n",
       "      <td>Electronics</td>\n",
       "    </tr>\n",
       "    <tr>\n",
       "      <th>61755</th>\n",
       "      <td>B076KPF5LK</td>\n",
       "      <td>Fire 7 2017 Kiddie Case, Fire 7 2015 Kiddie Ca...</td>\n",
       "      <td></td>\n",
       "      <td>Electronics</td>\n",
       "    </tr>\n",
       "  </tbody>\n",
       "</table>\n",
       "</div>"
      ],
      "text/plain": [
       "           item_id                                              title  \\\n",
       "82922   B071JBRN4K  YMIX Macbook Pro 13\" Case Non-Retina,Folio Emb...   \n",
       "53395   B01IY5644I  Super Antenna FF1B Frequency Flag Weatherproof...   \n",
       "110945  B012UE7SGW  Uniden DB9 Serial Cable For Scanner Models BC2...   \n",
       "83226   B00A4QB4SW     TR TY-147 140 mm, PWM fan, low noise emission.   \n",
       "56410   B08B3MSC5F  [2 Pack] Silicone Protective Cover for NVIDIA ...   \n",
       "42439   B0B48NWZ3L  Taken 16.5ft Charging Cable, Quick Charge Powe...   \n",
       "87361   B005HB7ZKU  Mitsubishi WD-62628 rear projector TV lamp wit...   \n",
       "107147  B00IEEGKY4  BenQ 5J.J7L25.002 BenQ 144hz DLP Link 3D Glass...   \n",
       "76138   0965321002           A Small Percentage (Small Percentage, 1)   \n",
       "47490   B07K2ZDZVG  Dreamvasion USB-C Extension Cable 6ft, Type C ...   \n",
       "100299  B08DLJB25F  65W AC Adapter Laptop Charger for Acer Aspire ...   \n",
       "68202   B08BTVZJQ7  Geekria Earpad + Headband Compatible with Senn...   \n",
       "52597   B077QQ9NKN  Polaroid Leatherette Case (Pink) for Polaroid ...   \n",
       "94716   B00U5NQJ0M          NIKON Camera Shoe Cover ASC-01 from Japan   \n",
       "63285   B0894Y9T6N  Wireless Keyboard Mouse Combo, 2.4GHz Slim Ful...   \n",
       "115684  B08PJ22C7N  Dell Optiplex 9020 Small Form Factor Desktop P...   \n",
       "79348   B000F9EVDS                       16X Write-Once DVD+r Spindle   \n",
       "58795   B000FSQ858  Micro Connectors, Inc. 10 feet USB 2.0 Extensi...   \n",
       "105523  B07CVCWYKD  15x15x4 mm Super Small Brushless DC Fan Ultra ...   \n",
       "118173  B07NQFQH8N  TV Remote Case for Apple TV Siri Remote 4K, 4t...   \n",
       "48283   B08YF1VBYD  DOSS Bluetooth Speaker, SoundBox Touch Portabl...   \n",
       "77183   B09NJLJJ4X  MYPIN Video to Digital Converter, 4.3\" AV Vide...   \n",
       "119029  B06XPZHCBD  KINGEAR PDK0025 2.7 Inch LCD Cameras 16MP Digi...   \n",
       "77105   B00KR5A1JS  Optimum Orbis Mini Displayport to VGA Adapter ...   \n",
       "77168   B09GF8B3QN  GELRHONR 3.5mm Stereo Male to RCA Adapter,Gold...   \n",
       "94893   B07NV91GZS  DROGO 6.75\" StandX Replacement Antenna for Jee...   \n",
       "91558   B00CWJPHU0  Meffort Inc 17 17.3 Inch Neoprene Laptop Bag w...   \n",
       "67117   B00Q5XY2YQ  Peak Design Anchor Links Camera Strap with Qui...   \n",
       "82292   B01KSYGL6Y  UpBright AC/DC Adapter Compatible with Razor H...   \n",
       "61755   B076KPF5LK  Fire 7 2017 Kiddie Case, Fire 7 2015 Kiddie Ca...   \n",
       "\n",
       "                                              description    file_name  \n",
       "82922                                                      Electronics  \n",
       "53395   Super Antenna FF1B Frequency Flag weatherproof...  Electronics  \n",
       "110945  Uniden DB9 Serial Cable For Scanner Models BC2...  Electronics  \n",
       "83226   *The TY Series Fan can be pluged into the 3 pi...  Electronics  \n",
       "56410   This Remote Case for your NVIDIA Shield TV Pro...  Electronics  \n",
       "42439   Taken quick charge 3.0 Power Adapter for Arlo ...  Electronics  \n",
       "87361                                                      Electronics  \n",
       "107147  BenQ 3D Glasses - D4. Enjoy the Fantastic New ...  Electronics  \n",
       "76138   Review\\n\"Science fiction has gained a bold new...  Electronics  \n",
       "47490                                                      Electronics  \n",
       "100299                                                     Electronics  \n",
       "68202   Mistakes Happen. We've Got You Covered.\\nWith ...  Electronics  \n",
       "52597   Pretty AND practical the perfect pair for your...  Electronics  \n",
       "94716                                                      Electronics  \n",
       "63285                                                      Electronics  \n",
       "115684  Dell Optiplex 9020 Small Form Factor Desktop P...  Electronics  \n",
       "79348   25 Spindle Pack / DVD+R / Up to 16x burning sp...  Electronics  \n",
       "58795   This cable extends the distance of your USB ca...  Electronics  \n",
       "105523                                                     Electronics  \n",
       "118173  LOUTOC TV Remote Case for Apple TV Siri Remote...  Electronics  \n",
       "48283                                                      Electronics  \n",
       "77183                                                      Electronics  \n",
       "119029  Specification:\\n* Image Sensor: 5.0 Mega Pixel...  Electronics  \n",
       "77105                                                      Electronics  \n",
       "77168   3.5mm Male to Male Audio Plug Extension Cable ...  Electronics  \n",
       "94893                                                      Electronics  \n",
       "91558                                                      Electronics  \n",
       "67117   Got a camera neck strap that you absolutely lo...  Electronics  \n",
       "82292   UpBright New Global 29.4V AC / DC Adapter Comp...  Electronics  \n",
       "61755                                                      Electronics  "
      ]
     },
     "execution_count": 92,
     "metadata": {},
     "output_type": "execute_result"
    }
   ],
   "source": [
    "sample = sample_products_from_category(num_samples.value, category.value, df_products)\n",
    "sample"
   ]
  },
  {
   "cell_type": "code",
   "execution_count": 93,
   "metadata": {},
   "outputs": [
    {
     "data": {
      "application/vnd.jupyter.widget-view+json": {
       "model_id": "11bc731bce254a12a3900bef3b16fa46",
       "version_major": 2,
       "version_minor": 0
      },
      "text/plain": [
       "IntSlider(value=0, continuous_update=False, description='index', max=29)"
      ]
     },
     "metadata": {},
     "output_type": "display_data"
    }
   ],
   "source": [
    "index = widgets.IntSlider(\n",
    "    value=0,\n",
    "    min=0,\n",
    "    max=num_samples.value - 1,\n",
    "    step=1,\n",
    "    description=\"index\",\n",
    "    disabled=False,\n",
    "    continuous_update=False,\n",
    "    orientation=\"horizontal\",\n",
    "    readout=True,\n",
    "    readout_format=\"d\",\n",
    ")\n",
    "display(index)"
   ]
  },
  {
   "cell_type": "code",
   "execution_count": 94,
   "metadata": {},
   "outputs": [
    {
     "name": "stdout",
     "output_type": "stream",
     "text": [
      "YMIX Macbook Pro 13\" Case Non-Retina,Folio Embroidered Shell Plastic Hard Protective Cover for Old MacBook Pro 13 Inch with CD-ROM Drive,Model A1278(A_Embroidered Floral)\n",
      "\n",
      "\n",
      "\n",
      "product category: Electronics\n"
     ]
    }
   ],
   "source": [
    "product_text = extract_text_from_product(sample.iloc[index.value])\n",
    "print(product_text)  # , width=180)"
   ]
  },
  {
   "cell_type": "code",
   "execution_count": 86,
   "metadata": {},
   "outputs": [],
   "source": [
    "response = client.beta.chat.completions.parse(\n",
    "    # model=\"gpt-4o-mini\",\n",
    "    model=\"gpt-4o-2024-08-06\",\n",
    "    temperature=0,\n",
    "    response_format=ResponseStructure,\n",
    "    messages=[\n",
    "        {\"role\": \"system\", \"content\": QUERY_GENERATION_PROMPT},\n",
    "        {\n",
    "            \"role\": \"user\",\n",
    "            \"content\": extract_text_from_product(sample.iloc[index.value]),\n",
    "        },\n",
    "    ],\n",
    ")"
   ]
  },
  {
   "cell_type": "code",
   "execution_count": 87,
   "metadata": {},
   "outputs": [
    {
     "name": "stdout",
     "output_type": "stream",
     "text": [
      "{'long_query': 'Mating of Millie 1948 movie',\n",
      " 'reasoning': 'This is a classic romantic comedy film from 1948, focusing on themes of love, adoption, and unexpected romance. The plot involves a woman trying to find a husband '\n",
      "              'to adopt a child, with the help of a man who eventually falls in love with her. This film would appeal to those interested in vintage romantic comedies or classic '\n",
      "              'cinema.',\n",
      " 'short_query': 'Mating of Millie'}\n"
     ]
    }
   ],
   "source": [
    "pprint(response.choices[0].message.parsed.model_dump(), width=180)"
   ]
  },
  {
   "cell_type": "code",
   "execution_count": 274,
   "metadata": {},
   "outputs": [],
   "source": [
    "index.value += 1"
   ]
  },
  {
   "cell_type": "code",
   "execution_count": null,
   "metadata": {},
   "outputs": [],
   "source": []
  }
 ],
 "metadata": {
  "kernelspec": {
   "display_name": ".venv",
   "language": "python",
   "name": "python3"
  },
  "language_info": {
   "codemirror_mode": {
    "name": "ipython",
    "version": 3
   },
   "file_extension": ".py",
   "mimetype": "text/x-python",
   "name": "python",
   "nbconvert_exporter": "python",
   "pygments_lexer": "ipython3",
   "version": "3.10.13"
  }
 },
 "nbformat": 4,
 "nbformat_minor": 2
}
