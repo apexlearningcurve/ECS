{
 "cells": [
  {
   "cell_type": "code",
   "execution_count": null,
   "metadata": {},
   "outputs": [],
   "source": [
    "from pathlib import Path\n",
    "\n",
    "from loguru import logger\n",
    "from tqdm.auto import tqdm\n",
    "from utils import extract_gz, load_and_process_data"
   ]
  },
  {
   "cell_type": "code",
   "execution_count": null,
   "metadata": {},
   "outputs": [],
   "source": [
    "dataset_dir = Path(\"~/Datasets/Amazon_Reviews_23/meta_data\").expanduser()\n",
    "assert dataset_dir.exists(), FileNotFoundError(\"Dataset dir does not exist!\")"
   ]
  },
  {
   "cell_type": "code",
   "execution_count": null,
   "metadata": {},
   "outputs": [],
   "source": [
    "file_paths = list(dataset_dir.iterdir())\n",
    "logger.info(f\"Number of meta files in dataset dir: {len(file_paths)}\")"
   ]
  },
  {
   "cell_type": "code",
   "execution_count": null,
   "metadata": {},
   "outputs": [],
   "source": [
    "extract_path = extract_gz(path=file_paths[0])"
   ]
  },
  {
   "cell_type": "code",
   "execution_count": null,
   "metadata": {},
   "outputs": [],
   "source": [
    "extract_path.exists()"
   ]
  },
  {
   "cell_type": "code",
   "execution_count": null,
   "metadata": {},
   "outputs": [],
   "source": [
    "df = load_and_process_data(file_path=extract_path)"
   ]
  },
  {
   "cell_type": "code",
   "execution_count": null,
   "metadata": {},
   "outputs": [],
   "source": [
    "df[\"parent_asin\"].is_duplicated().sum()"
   ]
  },
  {
   "cell_type": "code",
   "execution_count": null,
   "metadata": {},
   "outputs": [],
   "source": [
    "def process_meta_files(dataset_dir: Path) -> None:\n",
    "    assert dataset_dir.exists(), FileNotFoundError(\"Dataset dir does not exist!\")\n",
    "\n",
    "    file_paths = list(dataset_dir.iterdir())\n",
    "\n",
    "    file_paths = [file for file in file_paths if file.suffix == \".gz\"]\n",
    "    logger.info(f\"Number of meta files in dataset dir: {len(file_paths)}\")\n",
    "\n",
    "    for path in tqdm(\n",
    "        file_paths,\n",
    "        total=len(file_paths),\n",
    "        desc=\"Unpacking and fomrating files to .parquet\",\n",
    "    ):\n",
    "        print(path)"
   ]
  },
  {
   "cell_type": "code",
   "execution_count": null,
   "metadata": {},
   "outputs": [],
   "source": [
    "process_meta_files(dataset_dir=dataset_dir)"
   ]
  },
  {
   "cell_type": "code",
   "execution_count": null,
   "metadata": {},
   "outputs": [],
   "source": []
  }
 ],
 "metadata": {
  "kernelspec": {
   "display_name": ".venv",
   "language": "python",
   "name": "python3"
  },
  "language_info": {
   "codemirror_mode": {
    "name": "ipython",
    "version": 3
   },
   "file_extension": ".py",
   "mimetype": "text/x-python",
   "name": "python",
   "nbconvert_exporter": "python",
   "pygments_lexer": "ipython3",
   "version": "3.10.13"
  }
 },
 "nbformat": 4,
 "nbformat_minor": 2
}
