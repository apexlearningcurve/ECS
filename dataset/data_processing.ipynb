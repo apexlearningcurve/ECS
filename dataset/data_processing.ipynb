{
 "cells": [
  {
   "cell_type": "code",
   "execution_count": 21,
   "metadata": {},
   "outputs": [],
   "source": [
    "from pathlib import Path\n",
    "\n",
    "from loguru import logger\n",
    "from tqdm.auto import tqdm\n",
    "from utils import extract_gz, load_and_process_data"
   ]
  },
  {
   "cell_type": "code",
   "execution_count": 5,
   "metadata": {},
   "outputs": [],
   "source": [
    "dataset_dir = Path(\"/Users/studeni/Datasets/Amazon_Reviews_23/meta_data\")\n",
    "assert dataset_dir.exists(), FileNotFoundError(\"Dataset dir does not exist!\")"
   ]
  },
  {
   "cell_type": "code",
   "execution_count": 6,
   "metadata": {},
   "outputs": [
    {
     "name": "stderr",
     "output_type": "stream",
     "text": [
      "\u001b[32m2024-06-10 19:12:46.462\u001b[0m | \u001b[1mINFO    \u001b[0m | \u001b[36m__main__\u001b[0m:\u001b[36m<module>\u001b[0m:\u001b[36m2\u001b[0m - \u001b[1mNumber of meta files in dataset dir: 36\u001b[0m\n"
     ]
    }
   ],
   "source": [
    "file_paths = list(dataset_dir.iterdir())\n",
    "logger.info(f\"Number of meta files in dataset dir: {len(file_paths)}\")"
   ]
  },
  {
   "cell_type": "code",
   "execution_count": 7,
   "metadata": {},
   "outputs": [],
   "source": [
    "extract_path = extract_gz(path=file_paths[0])"
   ]
  },
  {
   "cell_type": "code",
   "execution_count": 8,
   "metadata": {},
   "outputs": [
    {
     "data": {
      "text/plain": [
       "True"
      ]
     },
     "execution_count": 8,
     "metadata": {},
     "output_type": "execute_result"
    }
   ],
   "source": [
    "extract_path.exists()"
   ]
  },
  {
   "cell_type": "code",
   "execution_count": 9,
   "metadata": {},
   "outputs": [
    {
     "name": "stderr",
     "output_type": "stream",
     "text": [
      "\u001b[32m2024-06-10 19:12:50.894\u001b[0m | \u001b[1mINFO    \u001b[0m | \u001b[36mutils\u001b[0m:\u001b[36mload_and_process_data\u001b[0m:\u001b[36m58\u001b[0m - \u001b[1mProcessed file /Users/studeni/Datasets/Amazon_Reviews_23/meta_data/meta_Digital_Music.jsonl successfully, collected: 70537 products.\u001b[0m\n"
     ]
    }
   ],
   "source": [
    "df = load_and_process_data(file_path=extract_path)"
   ]
  },
  {
   "cell_type": "code",
   "execution_count": 17,
   "metadata": {},
   "outputs": [
    {
     "data": {
      "text/plain": [
       "0"
      ]
     },
     "execution_count": 17,
     "metadata": {},
     "output_type": "execute_result"
    }
   ],
   "source": [
    "df[\"parent_asin\"].is_duplicated().sum()"
   ]
  },
  {
   "cell_type": "code",
   "execution_count": 22,
   "metadata": {},
   "outputs": [],
   "source": [
    "def process_meta_files(dataset_dir: Path) -> None:\n",
    "    assert dataset_dir.exists(), FileNotFoundError(\"Dataset dir does not exist!\")\n",
    "\n",
    "    file_paths = list(dataset_dir.iterdir())\n",
    "\n",
    "    file_paths = [file for file in file_paths if file.suffix == \".gz\"]\n",
    "    logger.info(f\"Number of meta files in dataset dir: {len(file_paths)}\")\n",
    "\n",
    "    for path in tqdm(\n",
    "        file_paths,\n",
    "        total=len(file_paths),\n",
    "        desc=\"Unpacking and fomrating files to .parquet\",\n",
    "    ):\n",
    "        print(path)"
   ]
  },
  {
   "cell_type": "code",
   "execution_count": 23,
   "metadata": {},
   "outputs": [
    {
     "name": "stderr",
     "output_type": "stream",
     "text": [
      "\u001b[32m2024-06-11 09:31:02.388\u001b[0m | \u001b[1mINFO    \u001b[0m | \u001b[36m__main__\u001b[0m:\u001b[36mprocess_meta_files\u001b[0m:\u001b[36m7\u001b[0m - \u001b[1mNumber of meta files in dataset dir: 34\u001b[0m\n"
     ]
    },
    {
     "data": {
      "application/vnd.jupyter.widget-view+json": {
       "model_id": "1e4af67b358643829000fd0f5f4c0ef1",
       "version_major": 2,
       "version_minor": 0
      },
      "text/plain": [
       "Unpacking and fomrating files to .parquet:   0%|          | 0/34 [00:00<?, ?it/s]"
      ]
     },
     "metadata": {},
     "output_type": "display_data"
    },
    {
     "name": "stdout",
     "output_type": "stream",
     "text": [
      "/Users/studeni/Datasets/Amazon_Reviews_23/meta_data/meta_Digital_Music.jsonl.gz\n",
      "/Users/studeni/Datasets/Amazon_Reviews_23/meta_data/meta_Pet_Supplies.jsonl.gz\n",
      "/Users/studeni/Datasets/Amazon_Reviews_23/meta_data/meta_Grocery_and_Gourmet_Food.jsonl.gz\n",
      "/Users/studeni/Datasets/Amazon_Reviews_23/meta_data/meta_Automotive.jsonl.gz\n",
      "/Users/studeni/Datasets/Amazon_Reviews_23/meta_data/meta_Movies_and_TV.jsonl.gz\n",
      "/Users/studeni/Datasets/Amazon_Reviews_23/meta_data/meta_Health_and_Household.jsonl.gz\n",
      "/Users/studeni/Datasets/Amazon_Reviews_23/meta_data/meta_Clothing_Shoes_and_Jewelry.jsonl.gz\n",
      "/Users/studeni/Datasets/Amazon_Reviews_23/meta_data/meta_Electronics.jsonl.gz\n",
      "/Users/studeni/Datasets/Amazon_Reviews_23/meta_data/meta_Beauty_and_Personal_Care.jsonl.gz\n",
      "/Users/studeni/Datasets/Amazon_Reviews_23/meta_data/meta_Magazine_Subscriptions.jsonl.gz\n",
      "/Users/studeni/Datasets/Amazon_Reviews_23/meta_data/meta_Tools_and_Home_Improvement.jsonl.gz\n",
      "/Users/studeni/Datasets/Amazon_Reviews_23/meta_data/meta_Amazon_Fashion.jsonl.gz\n",
      "/Users/studeni/Datasets/Amazon_Reviews_23/meta_data/meta_Unknown.jsonl.gz\n",
      "/Users/studeni/Datasets/Amazon_Reviews_23/meta_data/meta_Gift_Cards.jsonl.gz\n",
      "/Users/studeni/Datasets/Amazon_Reviews_23/meta_data/meta_Software.jsonl.gz\n",
      "/Users/studeni/Datasets/Amazon_Reviews_23/meta_data/meta_Cell_Phones_and_Accessories.jsonl.gz\n",
      "/Users/studeni/Datasets/Amazon_Reviews_23/meta_data/meta_Industrial_and_Scientific.jsonl.gz\n",
      "/Users/studeni/Datasets/Amazon_Reviews_23/meta_data/meta_All_Beauty.jsonl.gz\n",
      "/Users/studeni/Datasets/Amazon_Reviews_23/meta_data/meta_Musical_Instruments.jsonl.gz\n",
      "/Users/studeni/Datasets/Amazon_Reviews_23/meta_data/meta_Subscription_Boxes.jsonl.gz\n",
      "/Users/studeni/Datasets/Amazon_Reviews_23/meta_data/meta_Patio_Lawn_and_Garden.jsonl.gz\n",
      "/Users/studeni/Datasets/Amazon_Reviews_23/meta_data/meta_Arts_Crafts_and_Sewing.jsonl.gz\n",
      "/Users/studeni/Datasets/Amazon_Reviews_23/meta_data/meta_Books.jsonl.gz\n",
      "/Users/studeni/Datasets/Amazon_Reviews_23/meta_data/meta_Home_and_Kitchen.jsonl.gz\n",
      "/Users/studeni/Datasets/Amazon_Reviews_23/meta_data/meta_Kindle_Store.jsonl.gz\n",
      "/Users/studeni/Datasets/Amazon_Reviews_23/meta_data/meta_Video_Games.jsonl.gz\n",
      "/Users/studeni/Datasets/Amazon_Reviews_23/meta_data/meta_Office_Products.jsonl.gz\n",
      "/Users/studeni/Datasets/Amazon_Reviews_23/meta_data/meta_Baby_Products.jsonl.gz\n",
      "/Users/studeni/Datasets/Amazon_Reviews_23/meta_data/meta_Sports_and_Outdoors.jsonl.gz\n",
      "/Users/studeni/Datasets/Amazon_Reviews_23/meta_data/meta_Health_and_Personal_Care.jsonl.gz\n",
      "/Users/studeni/Datasets/Amazon_Reviews_23/meta_data/meta_Appliances.jsonl.gz\n",
      "/Users/studeni/Datasets/Amazon_Reviews_23/meta_data/meta_Toys_and_Games.jsonl.gz\n",
      "/Users/studeni/Datasets/Amazon_Reviews_23/meta_data/meta_Handmade_Products.jsonl.gz\n",
      "/Users/studeni/Datasets/Amazon_Reviews_23/meta_data/meta_CDs_and_Vinyl.jsonl.gz\n"
     ]
    }
   ],
   "source": [
    "process_meta_files(dataset_dir=dataset_dir)"
   ]
  },
  {
   "cell_type": "code",
   "execution_count": null,
   "metadata": {},
   "outputs": [],
   "source": []
  }
 ],
 "metadata": {
  "kernelspec": {
   "display_name": ".venv",
   "language": "python",
   "name": "python3"
  },
  "language_info": {
   "codemirror_mode": {
    "name": "ipython",
    "version": 3
   },
   "file_extension": ".py",
   "mimetype": "text/x-python",
   "name": "python",
   "nbconvert_exporter": "python",
   "pygments_lexer": "ipython3",
   "version": "3.10.13"
  }
 },
 "nbformat": 4,
 "nbformat_minor": 2
}
