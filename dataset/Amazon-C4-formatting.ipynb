{
 "cells": [
  {
   "cell_type": "code",
   "execution_count": 229,
   "metadata": {},
   "outputs": [
    {
     "data": {
      "text/plain": [
       "True"
      ]
     },
     "execution_count": 229,
     "metadata": {},
     "output_type": "execute_result"
    }
   ],
   "source": [
    "import json\n",
    "import os\n",
    "from collections import defaultdict\n",
    "from datetime import datetime\n",
    "\n",
    "import pandas as pd\n",
    "from datasets import DatasetDict, load_dataset\n",
    "from dotenv import find_dotenv, load_dotenv\n",
    "from huggingface_hub import HfApi, hf_hub_download\n",
    "\n",
    "load_dotenv(find_dotenv())"
   ]
  },
  {
   "cell_type": "markdown",
   "metadata": {},
   "source": [
    "### Download the dataset"
   ]
  },
  {
   "cell_type": "code",
   "execution_count": 241,
   "metadata": {},
   "outputs": [],
   "source": [
    "ds_test = load_dataset(\"McAuley-Lab/Amazon-C4\", split=\"test\")"
   ]
  },
  {
   "cell_type": "markdown",
   "metadata": {},
   "source": [
    "### Lets remove unnecessary columns"
   ]
  },
  {
   "cell_type": "code",
   "execution_count": 242,
   "metadata": {},
   "outputs": [
    {
     "data": {
      "text/plain": [
       "['qid', 'query', 'item_id', 'user_id', 'ori_rating', 'ori_review']"
      ]
     },
     "execution_count": 242,
     "metadata": {},
     "output_type": "execute_result"
    }
   ],
   "source": [
    "ds_test.column_names"
   ]
  },
  {
   "cell_type": "code",
   "execution_count": 243,
   "metadata": {},
   "outputs": [],
   "source": [
    "ds_test = ds_test.remove_columns(column_names=[\"user_id\", \"ori_rating\", \"ori_review\"])"
   ]
  },
  {
   "cell_type": "code",
   "execution_count": 244,
   "metadata": {},
   "outputs": [],
   "source": [
    "column_mapping = {\"qid\": \"query_id\", \"query\": \"query_old\"}\n",
    "ds_test = ds_test.rename_columns(column_mapping=column_mapping)"
   ]
  },
  {
   "cell_type": "code",
   "execution_count": 245,
   "metadata": {},
   "outputs": [],
   "source": [
    "dataset_name = \"apexlearningcurve/Amazon-Search-Benchmark\""
   ]
  },
  {
   "cell_type": "code",
   "execution_count": 246,
   "metadata": {},
   "outputs": [
    {
     "data": {
      "application/vnd.jupyter.widget-view+json": {
       "model_id": "54dc8f3881324afb9a97292bc39c80f6",
       "version_major": 2,
       "version_minor": 0
      },
      "text/plain": [
       "Uploading the dataset shards:   0%|          | 0/1 [00:00<?, ?it/s]"
      ]
     },
     "metadata": {},
     "output_type": "display_data"
    },
    {
     "data": {
      "application/vnd.jupyter.widget-view+json": {
       "model_id": "a4af457509be473dbcf92b274d49bcd2",
       "version_major": 2,
       "version_minor": 0
      },
      "text/plain": [
       "Creating parquet from Arrow format:   0%|          | 0/22 [00:00<?, ?ba/s]"
      ]
     },
     "metadata": {},
     "output_type": "display_data"
    },
    {
     "data": {
      "application/vnd.jupyter.widget-view+json": {
       "model_id": "229f3ef568a64aaa98c116f72b32d744",
       "version_major": 2,
       "version_minor": 0
      },
      "text/plain": [
       "README.md:   0%|          | 0.00/829 [00:00<?, ?B/s]"
      ]
     },
     "metadata": {},
     "output_type": "display_data"
    },
    {
     "data": {
      "text/plain": [
       "CommitInfo(commit_url='https://huggingface.co/datasets/apexlearningcurve/Amazon-Search-Benchmark/commit/59aec5dcc75befe59fc0c66348063db7ff40cc29', commit_message='Upload dataset', commit_description='', oid='59aec5dcc75befe59fc0c66348063db7ff40cc29', pr_url=None, pr_revision=None, pr_num=None)"
      ]
     },
     "execution_count": 246,
     "metadata": {},
     "output_type": "execute_result"
    }
   ],
   "source": [
    "ds_test.push_to_hub(dataset_name, token=os.getenv(\"HF_TOKEN\"), split=None)"
   ]
  },
  {
   "cell_type": "code",
   "execution_count": 42,
   "metadata": {},
   "outputs": [],
   "source": [
    "ds_train = load_dataset(\n",
    "    \"McAuley-Lab/Amazon-C4\",\n",
    "    data_files=[\"sampled_item_metadata_1M.jsonl\"],\n",
    "    split=\"train\",\n",
    ")"
   ]
  },
  {
   "cell_type": "code",
   "execution_count": 43,
   "metadata": {},
   "outputs": [
    {
     "data": {
      "text/plain": [
       "['item_id', 'category', 'metadata']"
      ]
     },
     "execution_count": 43,
     "metadata": {},
     "output_type": "execute_result"
    }
   ],
   "source": [
    "ds_train.column_names"
   ]
  },
  {
   "cell_type": "markdown",
   "metadata": {},
   "source": [
    "Check if test examples are found in the train split"
   ]
  },
  {
   "cell_type": "code",
   "execution_count": 44,
   "metadata": {},
   "outputs": [
    {
     "data": {
      "text/plain": [
       "{'qid': 0,\n",
       " 'query': \"I need filters that effectively trap dust and improve the air quality in my home. It's surprising how much dust they can collect in just a few months.\",\n",
       " 'item_id': 'B0C5QYYHTJ'}"
      ]
     },
     "execution_count": 44,
     "metadata": {},
     "output_type": "execute_result"
    }
   ],
   "source": [
    "ds_test[0]"
   ]
  },
  {
   "cell_type": "code",
   "execution_count": 8,
   "metadata": {},
   "outputs": [
    {
     "data": {
      "application/vnd.jupyter.widget-view+json": {
       "model_id": "c30ba84d50fb4103a9f9a3911f0d059a",
       "version_major": 2,
       "version_minor": 0
      },
      "text/plain": [
       "Filter:   0%|          | 0/1058417 [00:00<?, ? examples/s]"
      ]
     },
     "metadata": {},
     "output_type": "display_data"
    },
    {
     "data": {
      "text/plain": [
       "{'item_id': ['B0C5QYYHTJ'],\n",
       " 'category': ['Home'],\n",
       " 'metadata': ['Flintar Core 300 True HEPA Replacement Filters, Compatible with LEVOIT Core 300, Core 300S VortexAir Air Purifier, 3-in-1 H13 Grade True HEPA Filter Replacement, Core 300-RF, 2-Pack. Flintar Premium high-efficiency H13 Grade True HEPA Replacement Filter is made in Taiwan and is fully compatible with LEVOIT Core 300 and Core 300S VortexAir Air Purifier. This True HEPA Filtration System includes:   - Fine Pre-Filter: Traps larger particles in the air like dust, hairs, pet fur, lint, and more - H13 Grade True HEPA Filter: Captures 99.97% of harmful airborne particles down to 0.3 microns in size   - High-Efficiency Activated Carbon Filter: Absorbs household odors from pets, cooking, smoke, wildfire, and harmful VOC’s Using Flintar premium high-efficiency air purifier filters and replacing the filters regularly will help optimize air cleaning performance. Replace your HEPA Filter every 6 months for optimal performance. Fully compatible with LEVOIT Cor 300 and Core 300S VortexAir Air Purifier.']}"
      ]
     },
     "execution_count": 8,
     "metadata": {},
     "output_type": "execute_result"
    }
   ],
   "source": [
    "results = ds_train.filter(lambda x: x[\"item_id\"] == ds_test[0][\"item_id\"])\n",
    "results.to_dict()"
   ]
  },
  {
   "cell_type": "markdown",
   "metadata": {},
   "source": [
    "we'll assume the rest are there as well for now"
   ]
  },
  {
   "cell_type": "markdown",
   "metadata": {},
   "source": [
    "### Finding the product categories (files)"
   ]
  },
  {
   "cell_type": "markdown",
   "metadata": {},
   "source": [
    "Load the c4 training dataset and save the item_ids only"
   ]
  },
  {
   "cell_type": "code",
   "execution_count": 12,
   "metadata": {},
   "outputs": [],
   "source": [
    "ds_train = ds_train.to_pandas()"
   ]
  },
  {
   "cell_type": "code",
   "execution_count": 13,
   "metadata": {},
   "outputs": [],
   "source": [
    "ds_train[\"item_id\"].to_csv(\"./c4_item_ids.csv\")"
   ]
  },
  {
   "cell_type": "markdown",
   "metadata": {},
   "source": [
    "Load asin2category mapping table"
   ]
  },
  {
   "cell_type": "code",
   "execution_count": 14,
   "metadata": {},
   "outputs": [],
   "source": [
    "with open(\"./asin2category.json\", \"r\") as fp:\n",
    "    mapping_dict = json.load(fp)"
   ]
  },
  {
   "cell_type": "markdown",
   "metadata": {},
   "source": [
    "Checking the strucutre"
   ]
  },
  {
   "cell_type": "code",
   "execution_count": 15,
   "metadata": {},
   "outputs": [
    {
     "data": {
      "text/plain": [
       "('B07R3DYMH6', 'Home and Kitchen')"
      ]
     },
     "execution_count": 15,
     "metadata": {},
     "output_type": "execute_result"
    }
   ],
   "source": [
    "list(mapping_dict.items())[0]"
   ]
  },
  {
   "cell_type": "code",
   "execution_count": 19,
   "metadata": {},
   "outputs": [],
   "source": [
    "c4_item_ids = pd.read_csv(\"./c4_item_ids.csv\")"
   ]
  },
  {
   "cell_type": "markdown",
   "metadata": {},
   "source": [
    "create a dict: \"category name\" : [list of item_ids]"
   ]
  },
  {
   "cell_type": "code",
   "execution_count": 20,
   "metadata": {},
   "outputs": [],
   "source": [
    "c4_category2id = defaultdict(list)\n",
    "for _, item_id in c4_item_ids.values:\n",
    "    c4_category2id[mapping_dict[item_id]].append(item_id)"
   ]
  },
  {
   "cell_type": "code",
   "execution_count": 24,
   "metadata": {},
   "outputs": [
    {
     "data": {
      "text/html": [
       "<div>\n",
       "<style scoped>\n",
       "    .dataframe tbody tr th:only-of-type {\n",
       "        vertical-align: middle;\n",
       "    }\n",
       "\n",
       "    .dataframe tbody tr th {\n",
       "        vertical-align: top;\n",
       "    }\n",
       "\n",
       "    .dataframe thead th {\n",
       "        text-align: right;\n",
       "    }\n",
       "</style>\n",
       "<table border=\"1\" class=\"dataframe\">\n",
       "  <thead>\n",
       "    <tr style=\"text-align: right;\">\n",
       "      <th></th>\n",
       "      <th>category</th>\n",
       "      <th>ids</th>\n",
       "    </tr>\n",
       "  </thead>\n",
       "  <tbody>\n",
       "    <tr>\n",
       "      <th>0</th>\n",
       "      <td>Beauty and Personal Care</td>\n",
       "      <td>[B0778XR2QM, B07Q443QPB, B00CMGHTHC, B07NVH4C5...</td>\n",
       "    </tr>\n",
       "    <tr>\n",
       "      <th>1</th>\n",
       "      <td>Clothing Shoes and Jewelry</td>\n",
       "      <td>[B07NRD63N7, B07T589YKW, B07CZJNMYN, B01LPFSG1...</td>\n",
       "    </tr>\n",
       "    <tr>\n",
       "      <th>2</th>\n",
       "      <td>Patio Lawn and Garden</td>\n",
       "      <td>[B09655QKSN, B09DQ9BS43, B094XNG7CP, B07HFN7FV...</td>\n",
       "    </tr>\n",
       "  </tbody>\n",
       "</table>\n",
       "</div>"
      ],
      "text/plain": [
       "                     category  \\\n",
       "0    Beauty and Personal Care   \n",
       "1  Clothing Shoes and Jewelry   \n",
       "2       Patio Lawn and Garden   \n",
       "\n",
       "                                                 ids  \n",
       "0  [B0778XR2QM, B07Q443QPB, B00CMGHTHC, B07NVH4C5...  \n",
       "1  [B07NRD63N7, B07T589YKW, B07CZJNMYN, B01LPFSG1...  \n",
       "2  [B09655QKSN, B09DQ9BS43, B094XNG7CP, B07HFN7FV...  "
      ]
     },
     "execution_count": 24,
     "metadata": {},
     "output_type": "execute_result"
    }
   ],
   "source": [
    "df = pd.DataFrame(list(c4_category2id.items()), columns=[\"category\", \"ids\"])\n",
    "df.head(3)"
   ]
  },
  {
   "cell_type": "code",
   "execution_count": 21,
   "metadata": {},
   "outputs": [],
   "source": [
    "df.to_csv(\"./category2item_asin_ids.csv\")"
   ]
  },
  {
   "cell_type": "markdown",
   "metadata": {},
   "source": [
    "### Fetch additional data for each item by category"
   ]
  },
  {
   "cell_type": "markdown",
   "metadata": {},
   "source": [
    "#### Run over all categories"
   ]
  },
  {
   "cell_type": "code",
   "execution_count": 25,
   "metadata": {},
   "outputs": [],
   "source": [
    "import ast\n",
    "import shutil\n",
    "from pathlib import Path\n",
    "\n",
    "import pandas as pd\n",
    "from datasets import load_dataset\n",
    "from tqdm.auto import tqdm"
   ]
  },
  {
   "cell_type": "code",
   "execution_count": 26,
   "metadata": {},
   "outputs": [],
   "source": [
    "def clear_directory(directory: Path):\n",
    "    if directory.exists() and directory.is_dir():\n",
    "        # Delete all contents of the directory\n",
    "        for item in directory.iterdir():\n",
    "            if item.is_dir():\n",
    "                shutil.rmtree(item)\n",
    "            else:\n",
    "                item.unlink()"
   ]
  },
  {
   "cell_type": "code",
   "execution_count": 27,
   "metadata": {},
   "outputs": [
    {
     "data": {
      "text/html": [
       "<div>\n",
       "<style scoped>\n",
       "    .dataframe tbody tr th:only-of-type {\n",
       "        vertical-align: middle;\n",
       "    }\n",
       "\n",
       "    .dataframe tbody tr th {\n",
       "        vertical-align: top;\n",
       "    }\n",
       "\n",
       "    .dataframe thead th {\n",
       "        text-align: right;\n",
       "    }\n",
       "</style>\n",
       "<table border=\"1\" class=\"dataframe\">\n",
       "  <thead>\n",
       "    <tr style=\"text-align: right;\">\n",
       "      <th></th>\n",
       "      <th>category</th>\n",
       "      <th>ids</th>\n",
       "    </tr>\n",
       "  </thead>\n",
       "  <tbody>\n",
       "    <tr>\n",
       "      <th>0</th>\n",
       "      <td>Beauty and Personal Care</td>\n",
       "      <td>['B0778XR2QM', 'B07Q443QPB', 'B00CMGHTHC', 'B0...</td>\n",
       "    </tr>\n",
       "    <tr>\n",
       "      <th>1</th>\n",
       "      <td>Clothing Shoes and Jewelry</td>\n",
       "      <td>['B07NRD63N7', 'B07T589YKW', 'B07CZJNMYN', 'B0...</td>\n",
       "    </tr>\n",
       "    <tr>\n",
       "      <th>2</th>\n",
       "      <td>Patio Lawn and Garden</td>\n",
       "      <td>['B09655QKSN', 'B09DQ9BS43', 'B094XNG7CP', 'B0...</td>\n",
       "    </tr>\n",
       "    <tr>\n",
       "      <th>3</th>\n",
       "      <td>Kindle Store</td>\n",
       "      <td>['B004Z1RFB2', 'B009RAOQ9A', 'B07K1F9RWY', 'B0...</td>\n",
       "    </tr>\n",
       "    <tr>\n",
       "      <th>4</th>\n",
       "      <td>Home and Kitchen</td>\n",
       "      <td>['B07JNQCMX7', 'B077SPV6JD', 'B09LKND673', 'B0...</td>\n",
       "    </tr>\n",
       "  </tbody>\n",
       "</table>\n",
       "</div>"
      ],
      "text/plain": [
       "                     category  \\\n",
       "0    Beauty and Personal Care   \n",
       "1  Clothing Shoes and Jewelry   \n",
       "2       Patio Lawn and Garden   \n",
       "3                Kindle Store   \n",
       "4            Home and Kitchen   \n",
       "\n",
       "                                                 ids  \n",
       "0  ['B0778XR2QM', 'B07Q443QPB', 'B00CMGHTHC', 'B0...  \n",
       "1  ['B07NRD63N7', 'B07T589YKW', 'B07CZJNMYN', 'B0...  \n",
       "2  ['B09655QKSN', 'B09DQ9BS43', 'B094XNG7CP', 'B0...  \n",
       "3  ['B004Z1RFB2', 'B009RAOQ9A', 'B07K1F9RWY', 'B0...  \n",
       "4  ['B07JNQCMX7', 'B077SPV6JD', 'B09LKND673', 'B0...  "
      ]
     },
     "execution_count": 27,
     "metadata": {},
     "output_type": "execute_result"
    }
   ],
   "source": [
    "category2asin_ids_path = \"category2item_asin_ids.csv\"\n",
    "output_dir = \"c4-raw-meta\"\n",
    "cache_dir = \"cache\"\n",
    "df = pd.read_csv(category2asin_ids_path, index_col=[0])\n",
    "df.head()"
   ]
  },
  {
   "cell_type": "markdown",
   "metadata": {},
   "source": [
    "Remove already processed categories"
   ]
  },
  {
   "cell_type": "code",
   "execution_count": 29,
   "metadata": {},
   "outputs": [],
   "source": [
    "def remove_processed(df):\n",
    "    file_list = list(Path(output_dir).iterdir())\n",
    "    file_stems = [file.stem for file in file_list]\n",
    "    cleaned_file_names = [\n",
    "        file_stem[len(\"raw_meta_\") : -len(\"_c4\")].replace(\"_\", \" \")\n",
    "        for file_stem in file_stems\n",
    "    ]\n",
    "    return df[~df[\"category\"].isin(cleaned_file_names)]"
   ]
  },
  {
   "cell_type": "code",
   "execution_count": null,
   "metadata": {},
   "outputs": [],
   "source": [
    "print(f\"Number of all files: {len(df)}\")\n",
    "df = remove_processed(df)\n",
    "print(f\"Number of unprocessed files: {len(df)}\")"
   ]
  },
  {
   "cell_type": "code",
   "execution_count": null,
   "metadata": {},
   "outputs": [],
   "source": [
    "for row in tqdm(df.itertuples(), total=len(df)):\n",
    "    category_name = row.category.replace(\" \", \"_\")\n",
    "    dataset_name = f\"raw_meta_{category_name}\"\n",
    "\n",
    "    item_ids = ast.literal_eval(row.ids)\n",
    "    ds = load_dataset(\n",
    "        path=\"McAuley-Lab/Amazon-Reviews-2023\",\n",
    "        name=dataset_name,\n",
    "        trust_remote_code=True,\n",
    "        cache_dir=cache_dir,\n",
    "        split=\"full\",\n",
    "    )\n",
    "\n",
    "    # Use map to add a boolean column indicating whether the item_id is in the set\n",
    "    item_id_set = set(item_ids)  # Convert the list to a set for faster lookups\n",
    "    dataset = ds.map(lambda x: {\"is_in_set\": x[\"parent_asin\"] in item_id_set})\n",
    "\n",
    "    # Filter the dataset where the 'is_in_set' column is True\n",
    "    filtered_dataset = dataset.filter(lambda x: x[\"is_in_set\"])\n",
    "\n",
    "    # Optionally, remove the 'is_in_set' column if not needed\n",
    "    filtered_dataset = filtered_dataset.remove_columns(\"is_in_set\")\n",
    "\n",
    "    # Convert the filtered dataset to a pandas DataFrame (optional)\n",
    "    df_fitlered = filtered_dataset.to_pandas()\n",
    "\n",
    "    # Save to parquet\n",
    "    df_fitlered.to_parquet(f\"./{output_dir}/{dataset_name}_c4.parquet\")\n",
    "    clear_directory(Path(cache_dir))"
   ]
  },
  {
   "cell_type": "markdown",
   "metadata": {},
   "source": [
    "## Creating new Amazon C4 Benchmark structure"
   ]
  },
  {
   "cell_type": "code",
   "execution_count": 31,
   "metadata": {},
   "outputs": [],
   "source": [
    "meta_data_dir = Path(\"./c4-raw-meta\")\n",
    "assert meta_data_dir.exists(), f\"Dir {meta_data_dir} not found!\""
   ]
  },
  {
   "cell_type": "code",
   "execution_count": 35,
   "metadata": {},
   "outputs": [
    {
     "name": "stdout",
     "output_type": "stream",
     "text": [
      "Number of parquet files: 31\n"
     ]
    }
   ],
   "source": [
    "file_paths = list(meta_data_dir.iterdir())\n",
    "file_paths = [path for path in file_paths if path.suffix == \".parquet\"]\n",
    "print(f\"Number of parquet files: {len(file_paths)}\")"
   ]
  },
  {
   "cell_type": "markdown",
   "metadata": {},
   "source": [
    "Extracting only necessary data. For now we are only using:\n",
    "- parent_asin\n",
    "- title\n",
    "- description\n",
    "- main_category\n",
    "- categories"
   ]
  },
  {
   "cell_type": "code",
   "execution_count": 33,
   "metadata": {},
   "outputs": [],
   "source": [
    "columns = [\"parent_asin\", \"title\", \"description\", \"main_category\", \"categories\"]"
   ]
  },
  {
   "cell_type": "markdown",
   "metadata": {},
   "source": [
    "Category analysis"
   ]
  },
  {
   "cell_type": "code",
   "execution_count": 145,
   "metadata": {},
   "outputs": [
    {
     "data": {
      "text/plain": [
       "PosixPath('c4-raw-meta/raw_meta_Beauty_and_Personal_Care_c4.parquet')"
      ]
     },
     "execution_count": 145,
     "metadata": {},
     "output_type": "execute_result"
    }
   ],
   "source": [
    "file_paths[9]"
   ]
  },
  {
   "cell_type": "code",
   "execution_count": 146,
   "metadata": {},
   "outputs": [
    {
     "name": "stdout",
     "output_type": "stream",
     "text": [
      "Number of data rows: 64878\n"
     ]
    }
   ],
   "source": [
    "df_items = pd.read_parquet(path=file_paths[9], columns=columns)\n",
    "print(f\"Number of data rows: {len(df_items)}\")"
   ]
  },
  {
   "cell_type": "code",
   "execution_count": 147,
   "metadata": {},
   "outputs": [
    {
     "data": {
      "text/html": [
       "<div>\n",
       "<style scoped>\n",
       "    .dataframe tbody tr th:only-of-type {\n",
       "        vertical-align: middle;\n",
       "    }\n",
       "\n",
       "    .dataframe tbody tr th {\n",
       "        vertical-align: top;\n",
       "    }\n",
       "\n",
       "    .dataframe thead th {\n",
       "        text-align: right;\n",
       "    }\n",
       "</style>\n",
       "<table border=\"1\" class=\"dataframe\">\n",
       "  <thead>\n",
       "    <tr style=\"text-align: right;\">\n",
       "      <th></th>\n",
       "      <th>parent_asin</th>\n",
       "      <th>title</th>\n",
       "      <th>description</th>\n",
       "      <th>main_category</th>\n",
       "      <th>categories</th>\n",
       "    </tr>\n",
       "  </thead>\n",
       "  <tbody>\n",
       "    <tr>\n",
       "      <th>13470</th>\n",
       "      <td>B07GY1RJ46</td>\n",
       "      <td>PUR Cosmetics Quick Pro 3 Piece Lip Kit</td>\n",
       "      <td>[]</td>\n",
       "      <td>Premium Beauty</td>\n",
       "      <td>[Beauty &amp; Personal Care, Skin Care, Lip Care, ...</td>\n",
       "    </tr>\n",
       "    <tr>\n",
       "      <th>10239</th>\n",
       "      <td>B0078Z2LWA</td>\n",
       "      <td>100 Perma-Sharp Straight Edge Razor Blades for...</td>\n",
       "      <td>[These razor blades are designed for a perfect...</td>\n",
       "      <td>All Beauty</td>\n",
       "      <td>[Beauty &amp; Personal Care, Shave &amp; Hair Removal,...</td>\n",
       "    </tr>\n",
       "    <tr>\n",
       "      <th>4282</th>\n",
       "      <td>B00QW5KDJU</td>\n",
       "      <td>Skinn Cosmetics Plasma Foundation SPF 8 Ageles...</td>\n",
       "      <td>[]</td>\n",
       "      <td>All Beauty</td>\n",
       "      <td>[Beauty &amp; Personal Care, Makeup, Face, Foundat...</td>\n",
       "    </tr>\n",
       "    <tr>\n",
       "      <th>6746</th>\n",
       "      <td>B002QTRRQI</td>\n",
       "      <td>NYX Loose Face Powder-NXLFP03 Pure Shimmer</td>\n",
       "      <td>[The finely-milled granules, which are almost ...</td>\n",
       "      <td>All Beauty</td>\n",
       "      <td>[Beauty &amp; Personal Care, Makeup, Face, Powder]</td>\n",
       "    </tr>\n",
       "    <tr>\n",
       "      <th>7128</th>\n",
       "      <td>B01CYZ0DV4</td>\n",
       "      <td>Spa Gift Set for Women, Birthday Gift Set for ...</td>\n",
       "      <td>[]</td>\n",
       "      <td>All Beauty</td>\n",
       "      <td>[Beauty &amp; Personal Care, Skin Care, Body, Sets...</td>\n",
       "    </tr>\n",
       "    <tr>\n",
       "      <th>21133</th>\n",
       "      <td>B0047EPOZ6</td>\n",
       "      <td>L'Oreal Paris EverSleek Sulfate-Free Smoothing...</td>\n",
       "      <td>[Intense Smoothing Shampoo]</td>\n",
       "      <td>All Beauty</td>\n",
       "      <td>[Beauty &amp; Personal Care, Hair Care, Shampoo &amp; ...</td>\n",
       "    </tr>\n",
       "    <tr>\n",
       "      <th>41827</th>\n",
       "      <td>B08313K1WB</td>\n",
       "      <td>BECUS 10 inches Short Bob Wigs with Flat Bangs...</td>\n",
       "      <td>[]</td>\n",
       "      <td>All Beauty</td>\n",
       "      <td>[Beauty &amp; Personal Care, Hair Care, Hair Exten...</td>\n",
       "    </tr>\n",
       "    <tr>\n",
       "      <th>2228</th>\n",
       "      <td>B099KSCDBS</td>\n",
       "      <td>FRCOLOR Nail Drill Grinding Bit Holder Box Pro...</td>\n",
       "      <td>[]</td>\n",
       "      <td>All Beauty</td>\n",
       "      <td>[Beauty &amp; Personal Care, Foot, Hand &amp; Nail Car...</td>\n",
       "    </tr>\n",
       "    <tr>\n",
       "      <th>57589</th>\n",
       "      <td>B0C2VJTRMM</td>\n",
       "      <td>Duoffanny Soft Cream Liquid Face Blush with Ai...</td>\n",
       "      <td>[]</td>\n",
       "      <td>All Beauty</td>\n",
       "      <td>[Beauty &amp; Personal Care, Makeup, Face, Blush]</td>\n",
       "    </tr>\n",
       "    <tr>\n",
       "      <th>50807</th>\n",
       "      <td>B075CZGGCW</td>\n",
       "      <td>Segbeauty Spray Bottle 9003</td>\n",
       "      <td>[1]</td>\n",
       "      <td>Tools &amp; Home Improvement</td>\n",
       "      <td>[Beauty &amp; Personal Care, Tools &amp; Accessories, ...</td>\n",
       "    </tr>\n",
       "  </tbody>\n",
       "</table>\n",
       "</div>"
      ],
      "text/plain": [
       "      parent_asin                                              title  \\\n",
       "13470  B07GY1RJ46            PUR Cosmetics Quick Pro 3 Piece Lip Kit   \n",
       "10239  B0078Z2LWA  100 Perma-Sharp Straight Edge Razor Blades for...   \n",
       "4282   B00QW5KDJU  Skinn Cosmetics Plasma Foundation SPF 8 Ageles...   \n",
       "6746   B002QTRRQI         NYX Loose Face Powder-NXLFP03 Pure Shimmer   \n",
       "7128   B01CYZ0DV4  Spa Gift Set for Women, Birthday Gift Set for ...   \n",
       "21133  B0047EPOZ6  L'Oreal Paris EverSleek Sulfate-Free Smoothing...   \n",
       "41827  B08313K1WB  BECUS 10 inches Short Bob Wigs with Flat Bangs...   \n",
       "2228   B099KSCDBS  FRCOLOR Nail Drill Grinding Bit Holder Box Pro...   \n",
       "57589  B0C2VJTRMM  Duoffanny Soft Cream Liquid Face Blush with Ai...   \n",
       "50807  B075CZGGCW                        Segbeauty Spray Bottle 9003   \n",
       "\n",
       "                                             description  \\\n",
       "13470                                                 []   \n",
       "10239  [These razor blades are designed for a perfect...   \n",
       "4282                                                  []   \n",
       "6746   [The finely-milled granules, which are almost ...   \n",
       "7128                                                  []   \n",
       "21133                        [Intense Smoothing Shampoo]   \n",
       "41827                                                 []   \n",
       "2228                                                  []   \n",
       "57589                                                 []   \n",
       "50807                                                [1]   \n",
       "\n",
       "                  main_category  \\\n",
       "13470            Premium Beauty   \n",
       "10239                All Beauty   \n",
       "4282                 All Beauty   \n",
       "6746                 All Beauty   \n",
       "7128                 All Beauty   \n",
       "21133                All Beauty   \n",
       "41827                All Beauty   \n",
       "2228                 All Beauty   \n",
       "57589                All Beauty   \n",
       "50807  Tools & Home Improvement   \n",
       "\n",
       "                                              categories  \n",
       "13470  [Beauty & Personal Care, Skin Care, Lip Care, ...  \n",
       "10239  [Beauty & Personal Care, Shave & Hair Removal,...  \n",
       "4282   [Beauty & Personal Care, Makeup, Face, Foundat...  \n",
       "6746      [Beauty & Personal Care, Makeup, Face, Powder]  \n",
       "7128   [Beauty & Personal Care, Skin Care, Body, Sets...  \n",
       "21133  [Beauty & Personal Care, Hair Care, Shampoo & ...  \n",
       "41827  [Beauty & Personal Care, Hair Care, Hair Exten...  \n",
       "2228   [Beauty & Personal Care, Foot, Hand & Nail Car...  \n",
       "57589      [Beauty & Personal Care, Makeup, Face, Blush]  \n",
       "50807  [Beauty & Personal Care, Tools & Accessories, ...  "
      ]
     },
     "execution_count": 147,
     "metadata": {},
     "output_type": "execute_result"
    }
   ],
   "source": [
    "df_items.sample(10)"
   ]
  },
  {
   "cell_type": "markdown",
   "metadata": {},
   "source": [
    "Extract category from file name"
   ]
  },
  {
   "cell_type": "code",
   "execution_count": 148,
   "metadata": {},
   "outputs": [],
   "source": [
    "category = (\n",
    "    file_paths[9]\n",
    "    .stem[len(\"raw_meta_\") : -len(\"_c4\")]\n",
    "    .replace(\"_\", \" \")\n",
    "    .replace(\"and\", \"&\")\n",
    ")"
   ]
  },
  {
   "cell_type": "code",
   "execution_count": 149,
   "metadata": {},
   "outputs": [
    {
     "data": {
      "text/plain": [
       "64878"
      ]
     },
     "execution_count": 149,
     "metadata": {},
     "output_type": "execute_result"
    }
   ],
   "source": [
    "sum(df_items[\"categories\"].apply(lambda x: x[0] == category))"
   ]
  },
  {
   "cell_type": "code",
   "execution_count": 169,
   "metadata": {},
   "outputs": [
    {
     "data": {
      "text/plain": [
       "'The finely-milled granules, which are almost undetectable, prevent caking and help to gently condition the skin. Ideal for setting makeup, mattifying the complexion and as the final glamour stroke for any look.'"
      ]
     },
     "execution_count": 169,
     "metadata": {},
     "output_type": "execute_result"
    }
   ],
   "source": [
    "\"\\n\".join(df_items[df_items[\"parent_asin\"] == \"B002QTRRQI\"][\"description\"].values[0])"
   ]
  },
  {
   "cell_type": "code",
   "execution_count": 172,
   "metadata": {},
   "outputs": [
    {
     "data": {
      "text/plain": [
       "0                                                         \n",
       "1        SHEA SHAMPOO. Alaffia EveryDay Shea Shampoos a...\n",
       "2        Set up your guest bathroom for the holiday wit...\n",
       "3        NYX beauty products cover a wide variety of co...\n",
       "4                                                         \n",
       "                               ...                        \n",
       "64873                                                     \n",
       "64874                                                     \n",
       "64875                                                     \n",
       "64876                                                     \n",
       "64877    Bombshell Cream Foundation is an amazing found...\n",
       "Name: description, Length: 64878, dtype: object"
      ]
     },
     "execution_count": 172,
     "metadata": {},
     "output_type": "execute_result"
    }
   ],
   "source": [
    "df_items[\"description\"].apply(lambda x: \"\\n\".join(x))"
   ]
  },
  {
   "cell_type": "markdown",
   "metadata": {},
   "source": [
    "Check how much data have empty title and description"
   ]
  },
  {
   "cell_type": "code",
   "execution_count": 54,
   "metadata": {},
   "outputs": [
    {
     "data": {
      "application/vnd.jupyter.widget-view+json": {
       "model_id": "3c5ef03639b94c1fbb69353bb5fbeefc",
       "version_major": 2,
       "version_minor": 0
      },
      "text/plain": [
       "  0%|          | 0/31 [00:00<?, ?it/s]"
      ]
     },
     "metadata": {},
     "output_type": "display_data"
    },
    {
     "name": "stdout",
     "output_type": "stream",
     "text": [
      "Number of rows that have 3281\n"
     ]
    }
   ],
   "source": [
    "num_empty = {}\n",
    "for path in tqdm(file_paths, total=len(file_paths)):\n",
    "    df_items = pd.read_parquet(path=path, columns=columns)\n",
    "    num_empty[path.stem] = len(\n",
    "        df_items[(df_items[\"title\"].isna()) & (df_items[\"description\"].isna())]\n",
    "    )\n",
    "\n",
    "print(f\"Number of rows that have {sum(num_empty.values())}\")"
   ]
  },
  {
   "cell_type": "code",
   "execution_count": 57,
   "metadata": {},
   "outputs": [
    {
     "data": {
      "text/plain": [
       "[('raw_meta_Movies_and_TV_c4', 3281)]"
      ]
     },
     "execution_count": 57,
     "metadata": {},
     "output_type": "execute_result"
    }
   ],
   "source": [
    "[(key, value) for key, value in num_empty.items() if value > 0]"
   ]
  },
  {
   "cell_type": "markdown",
   "metadata": {},
   "source": [
    "Only Movies category contain empty values..."
   ]
  },
  {
   "cell_type": "code",
   "execution_count": 45,
   "metadata": {},
   "outputs": [
    {
     "data": {
      "application/vnd.jupyter.widget-view+json": {
       "model_id": "d2fb1edc8f334747b667b2af7bc475c3",
       "version_major": 2,
       "version_minor": 0
      },
      "text/plain": [
       "Filter:   0%|          | 0/1058417 [00:00<?, ? examples/s]"
      ]
     },
     "metadata": {},
     "output_type": "display_data"
    }
   ],
   "source": [
    "results = ds_train.filter(lambda x: x[\"item_id\"] == \"B0B5NR9D69\")"
   ]
  },
  {
   "cell_type": "code",
   "execution_count": 47,
   "metadata": {},
   "outputs": [
    {
     "data": {
      "text/plain": [
       "{'item_id': 'B0B5NR9D69', 'category': 'Movies', 'metadata': ' '}"
      ]
     },
     "execution_count": 47,
     "metadata": {},
     "output_type": "execute_result"
    }
   ],
   "source": [
    "results[0]"
   ]
  },
  {
   "cell_type": "code",
   "execution_count": 188,
   "metadata": {},
   "outputs": [],
   "source": [
    "dt = datetime.now().strftime(\"%Y-%b-%d_%H-%M-%S\")\n",
    "output_dir = Path(f\"./c4-raw-meta-filtered_{dt}\")\n",
    "output_dir.mkdir(parents=True, exist_ok=True)"
   ]
  },
  {
   "cell_type": "markdown",
   "metadata": {},
   "source": [
    "## Extacting Title + Description"
   ]
  },
  {
   "cell_type": "code",
   "execution_count": 201,
   "metadata": {},
   "outputs": [],
   "source": [
    "def create_jsonl_entry(row, file_name):\n",
    "    title = row[\"title\"]\n",
    "    description = row[\"description\"]\n",
    "\n",
    "    # Skip if both title and description are None\n",
    "    if pd.isna(title) and pd.isna(description):\n",
    "        return None\n",
    "\n",
    "    return {\n",
    "        \"item_id\": row[\"parent_asin\"],\n",
    "        \"title\": title,\n",
    "        \"description\": description,\n",
    "        \"file_name\": file_name,\n",
    "    }"
   ]
  },
  {
   "cell_type": "code",
   "execution_count": 202,
   "metadata": {},
   "outputs": [
    {
     "data": {
      "application/vnd.jupyter.widget-view+json": {
       "model_id": "4fd195d0ca8d408faeae1e65023fe8ac",
       "version_major": 2,
       "version_minor": 0
      },
      "text/plain": [
       "  0%|          | 0/31 [00:00<?, ?it/s]"
      ]
     },
     "metadata": {},
     "output_type": "display_data"
    }
   ],
   "source": [
    "columns = [\"parent_asin\", \"title\", \"description\"]\n",
    "num_rows = 0\n",
    "\n",
    "for path in tqdm(file_paths, total=len(file_paths)):\n",
    "    df_items = pd.read_parquet(path=path, columns=columns)\n",
    "    file_name = (\n",
    "        path.stem[len(\"raw_meta_\") : -len(\"_c4\")].replace(\"_\", \" \").replace(\"and\", \"&\")\n",
    "    )\n",
    "    df_items[\"description\"] = df_items[\"description\"].apply(\n",
    "        lambda x: \"\\n\".join(x) if x is not None else None\n",
    "    )\n",
    "\n",
    "    jsonl_list = (\n",
    "        df_items.apply(lambda row: create_jsonl_entry(row, file_name), axis=1)\n",
    "        .dropna()\n",
    "        .to_list()\n",
    "    )\n",
    "    num_rows += len(jsonl_list)\n",
    "\n",
    "    with open(\n",
    "        output_dir / \"sampled_item_metadata_1M_filtered.jsonl\", \"a\", encoding=\"utf-8\"\n",
    "    ) as f:\n",
    "        for row in jsonl_list:\n",
    "            json_string = json.dumps(row)\n",
    "            f.write(json_string + \"\\n\")"
   ]
  },
  {
   "cell_type": "code",
   "execution_count": 203,
   "metadata": {},
   "outputs": [
    {
     "name": "stdout",
     "output_type": "stream",
     "text": [
      "Number of data rows: 1055136\n"
     ]
    }
   ],
   "source": [
    "print(f\"Number of data rows: {num_rows}\")"
   ]
  },
  {
   "cell_type": "markdown",
   "metadata": {},
   "source": [
    "### Push to HF"
   ]
  },
  {
   "cell_type": "code",
   "execution_count": 225,
   "metadata": {},
   "outputs": [],
   "source": [
    "dataset_name = \"apexlearningcurve/Amazon-Search-Benchmark\"\n",
    "api = HfApi()"
   ]
  },
  {
   "cell_type": "code",
   "execution_count": 226,
   "metadata": {},
   "outputs": [
    {
     "data": {
      "application/vnd.jupyter.widget-view+json": {
       "model_id": "0444e4bfb77c4837a6eac57793bc80f3",
       "version_major": 2,
       "version_minor": 0
      },
      "text/plain": [
       "sampled_item_metadata_1M_filtered.jsonl:   0%|          | 0.00/673M [00:00<?, ?B/s]"
      ]
     },
     "metadata": {},
     "output_type": "display_data"
    },
    {
     "data": {
      "text/plain": [
       "CommitInfo(commit_url='https://huggingface.co/datasets/apexlearningcurve/Amazon-Search-Benchmark/commit/3d82075b407e2c61fef8a3fbcf4c297228534faf', commit_message='Upload ./sampled_item_metadata_1M_filtered.jsonl with huggingface_hub', commit_description='', oid='3d82075b407e2c61fef8a3fbcf4c297228534faf', pr_url=None, pr_revision=None, pr_num=None)"
      ]
     },
     "execution_count": 226,
     "metadata": {},
     "output_type": "execute_result"
    }
   ],
   "source": [
    "api.upload_file(\n",
    "    path_or_fileobj=\"./c4-raw-meta-filtered_2024-Aug-20_20-44-50/sampled_item_metadata_1M_filtered.jsonl\",\n",
    "    path_in_repo=\"./sampled_item_metadata_1M_filtered.jsonl\",\n",
    "    repo_id=dataset_name,\n",
    "    repo_type=\"dataset\",\n",
    ")"
   ]
  },
  {
   "cell_type": "markdown",
   "metadata": {},
   "source": [
    "Upload raw parquet files"
   ]
  },
  {
   "cell_type": "code",
   "execution_count": 227,
   "metadata": {},
   "outputs": [],
   "source": [
    "raw_files_dir = Path(\"./c4-raw-meta\")"
   ]
  },
  {
   "cell_type": "code",
   "execution_count": 228,
   "metadata": {},
   "outputs": [
    {
     "data": {
      "application/vnd.jupyter.widget-view+json": {
       "model_id": "98826a1186d64ad9ba4875fb89f72922",
       "version_major": 2,
       "version_minor": 0
      },
      "text/plain": [
       "raw_meta_Appliances_c4.parquet:   0%|          | 0.00/4.64M [00:00<?, ?B/s]"
      ]
     },
     "metadata": {},
     "output_type": "display_data"
    },
    {
     "data": {
      "application/vnd.jupyter.widget-view+json": {
       "model_id": "c40c96ad00e54c0fb9fe5c8ac5a41c06",
       "version_major": 2,
       "version_minor": 0
      },
      "text/plain": [
       "raw_meta_All_Beauty_c4.parquet:   0%|          | 0.00/400k [00:00<?, ?B/s]"
      ]
     },
     "metadata": {},
     "output_type": "display_data"
    },
    {
     "data": {
      "application/vnd.jupyter.widget-view+json": {
       "model_id": "069142cafad44e01a997b4419a17dd0b",
       "version_major": 2,
       "version_minor": 0
      },
      "text/plain": [
       "raw_meta_Arts_Crafts_and_Sewing_c4.parquet:   0%|          | 0.00/18.6M [00:00<?, ?B/s]"
      ]
     },
     "metadata": {},
     "output_type": "display_data"
    },
    {
     "data": {
      "application/vnd.jupyter.widget-view+json": {
       "model_id": "1e557d5d497143239e7a544f432d152e",
       "version_major": 2,
       "version_minor": 0
      },
      "text/plain": [
       "Upload 31 LFS files:   0%|          | 0/31 [00:00<?, ?it/s]"
      ]
     },
     "metadata": {},
     "output_type": "display_data"
    },
    {
     "data": {
      "application/vnd.jupyter.widget-view+json": {
       "model_id": "3c1edf35b0224f6f9c933a9890d17ab4",
       "version_major": 2,
       "version_minor": 0
      },
      "text/plain": [
       "raw_meta_Amazon_Fashion_c4.parquet:   0%|          | 0.00/640k [00:00<?, ?B/s]"
      ]
     },
     "metadata": {},
     "output_type": "display_data"
    },
    {
     "data": {
      "application/vnd.jupyter.widget-view+json": {
       "model_id": "6d35864e2e234f7387405fd62492e5b5",
       "version_major": 2,
       "version_minor": 0
      },
      "text/plain": [
       "raw_meta_Automotive_c4.parquet:   0%|          | 0.00/39.2M [00:00<?, ?B/s]"
      ]
     },
     "metadata": {},
     "output_type": "display_data"
    },
    {
     "data": {
      "application/vnd.jupyter.widget-view+json": {
       "model_id": "6ba323571a084d89b8d670189086f605",
       "version_major": 2,
       "version_minor": 0
      },
      "text/plain": [
       "raw_meta_Baby_Products_c4.parquet:   0%|          | 0.00/14.1M [00:00<?, ?B/s]"
      ]
     },
     "metadata": {},
     "output_type": "display_data"
    },
    {
     "data": {
      "application/vnd.jupyter.widget-view+json": {
       "model_id": "70db3504017441ccbb35232c26a6bf1a",
       "version_major": 2,
       "version_minor": 0
      },
      "text/plain": [
       "raw_meta_Beauty_and_Personal_Care_c4.parquet:   0%|          | 0.00/64.1M [00:00<?, ?B/s]"
      ]
     },
     "metadata": {},
     "output_type": "display_data"
    },
    {
     "data": {
      "application/vnd.jupyter.widget-view+json": {
       "model_id": "5bb85840d5b940ada71e55e1404bc40b",
       "version_major": 2,
       "version_minor": 0
      },
      "text/plain": [
       "raw_meta_Books_c4.parquet:   0%|          | 0.00/66.9M [00:00<?, ?B/s]"
      ]
     },
     "metadata": {},
     "output_type": "display_data"
    },
    {
     "data": {
      "application/vnd.jupyter.widget-view+json": {
       "model_id": "c427c1ec670948a1a7b08518cba11701",
       "version_major": 2,
       "version_minor": 0
      },
      "text/plain": [
       "raw_meta_CDs_and_Vinyl_c4.parquet:   0%|          | 0.00/1.07M [00:00<?, ?B/s]"
      ]
     },
     "metadata": {},
     "output_type": "display_data"
    },
    {
     "data": {
      "application/vnd.jupyter.widget-view+json": {
       "model_id": "90391ae37e004c7db642294c13479cb5",
       "version_major": 2,
       "version_minor": 0
      },
      "text/plain": [
       "raw_meta_Cell_Phones_and_Accessories_c4.parquet:   0%|          | 0.00/33.0M [00:00<?, ?B/s]"
      ]
     },
     "metadata": {},
     "output_type": "display_data"
    },
    {
     "data": {
      "application/vnd.jupyter.widget-view+json": {
       "model_id": "0980aaeb185f46e9a9b3ade8bb6298db",
       "version_major": 2,
       "version_minor": 0
      },
      "text/plain": [
       "raw_meta_Clothing_Shoes_and_Jewelry_c4.parquet:   0%|          | 0.00/115M [00:00<?, ?B/s]"
      ]
     },
     "metadata": {},
     "output_type": "display_data"
    },
    {
     "data": {
      "application/vnd.jupyter.widget-view+json": {
       "model_id": "312f5efffe86443b92435664a7e81501",
       "version_major": 2,
       "version_minor": 0
      },
      "text/plain": [
       "raw_meta_Electronics_c4.parquet:   0%|          | 0.00/90.5M [00:00<?, ?B/s]"
      ]
     },
     "metadata": {},
     "output_type": "display_data"
    },
    {
     "data": {
      "application/vnd.jupyter.widget-view+json": {
       "model_id": "ff37b24922a64d5a950e9de2b3a854d9",
       "version_major": 2,
       "version_minor": 0
      },
      "text/plain": [
       "raw_meta_Gift_Cards_c4.parquet:   0%|          | 0.00/122k [00:00<?, ?B/s]"
      ]
     },
     "metadata": {},
     "output_type": "display_data"
    },
    {
     "data": {
      "application/vnd.jupyter.widget-view+json": {
       "model_id": "3a3af780e0784007903249e6338d393b",
       "version_major": 2,
       "version_minor": 0
      },
      "text/plain": [
       "raw_meta_Grocery_and_Gourmet_Food_c4.parquet:   0%|          | 0.00/21.2M [00:00<?, ?B/s]"
      ]
     },
     "metadata": {},
     "output_type": "display_data"
    },
    {
     "data": {
      "application/vnd.jupyter.widget-view+json": {
       "model_id": "3f45c95ca8e14f78b45250d20c44e952",
       "version_major": 2,
       "version_minor": 0
      },
      "text/plain": [
       "raw_meta_Handmade_Products_c4.parquet:   0%|          | 0.00/1.57M [00:00<?, ?B/s]"
      ]
     },
     "metadata": {},
     "output_type": "display_data"
    },
    {
     "data": {
      "application/vnd.jupyter.widget-view+json": {
       "model_id": "4ce54e29fad34808b52d4a788911e04e",
       "version_major": 2,
       "version_minor": 0
      },
      "text/plain": [
       "raw_meta_Health_and_Household_c4.parquet:   0%|          | 0.00/73.6M [00:00<?, ?B/s]"
      ]
     },
     "metadata": {},
     "output_type": "display_data"
    },
    {
     "data": {
      "application/vnd.jupyter.widget-view+json": {
       "model_id": "30878eaba5df488581ea5904cc64d032",
       "version_major": 2,
       "version_minor": 0
      },
      "text/plain": [
       "raw_meta_Health_and_Personal_Care_c4.parquet:   0%|          | 0.00/453k [00:00<?, ?B/s]"
      ]
     },
     "metadata": {},
     "output_type": "display_data"
    },
    {
     "data": {
      "application/vnd.jupyter.widget-view+json": {
       "model_id": "27569ffaa5134e39b6bd3d214ce86670",
       "version_major": 2,
       "version_minor": 0
      },
      "text/plain": [
       "raw_meta_Home_and_Kitchen_c4.parquet:   0%|          | 0.00/194M [00:00<?, ?B/s]"
      ]
     },
     "metadata": {},
     "output_type": "display_data"
    },
    {
     "data": {
      "application/vnd.jupyter.widget-view+json": {
       "model_id": "aca52ae6ad9e46bd9e1f8d55d515fcdc",
       "version_major": 2,
       "version_minor": 0
      },
      "text/plain": [
       "raw_meta_Industrial_and_Scientific_c4.parquet:   0%|          | 0.00/11.6M [00:00<?, ?B/s]"
      ]
     },
     "metadata": {},
     "output_type": "display_data"
    },
    {
     "data": {
      "application/vnd.jupyter.widget-view+json": {
       "model_id": "8531f8a3d53b465b8409f4972778db64",
       "version_major": 2,
       "version_minor": 0
      },
      "text/plain": [
       "raw_meta_Kindle_Store_c4.parquet:   0%|          | 0.00/127M [00:00<?, ?B/s]"
      ]
     },
     "metadata": {},
     "output_type": "display_data"
    },
    {
     "data": {
      "application/vnd.jupyter.widget-view+json": {
       "model_id": "7d7c296538da464aaf7b1c992da039d8",
       "version_major": 2,
       "version_minor": 0
      },
      "text/plain": [
       "raw_meta_Magazine_Subscriptions_c4.parquet:   0%|          | 0.00/51.7k [00:00<?, ?B/s]"
      ]
     },
     "metadata": {},
     "output_type": "display_data"
    },
    {
     "data": {
      "application/vnd.jupyter.widget-view+json": {
       "model_id": "c063c614e1ea45faab2082f555298340",
       "version_major": 2,
       "version_minor": 0
      },
      "text/plain": [
       "raw_meta_Movies_and_TV_c4.parquet:   0%|          | 0.00/3.62M [00:00<?, ?B/s]"
      ]
     },
     "metadata": {},
     "output_type": "display_data"
    },
    {
     "data": {
      "application/vnd.jupyter.widget-view+json": {
       "model_id": "9626b032e7094eb0abdb3b5d945c2444",
       "version_major": 2,
       "version_minor": 0
      },
      "text/plain": [
       "raw_meta_Musical_Instruments_c4.parquet:   0%|          | 0.00/6.44M [00:00<?, ?B/s]"
      ]
     },
     "metadata": {},
     "output_type": "display_data"
    },
    {
     "data": {
      "application/vnd.jupyter.widget-view+json": {
       "model_id": "4c16d8abb5874113b5bd0583fb91a8e8",
       "version_major": 2,
       "version_minor": 0
      },
      "text/plain": [
       "raw_meta_Office_Products_c4.parquet:   0%|          | 0.00/30.8M [00:00<?, ?B/s]"
      ]
     },
     "metadata": {},
     "output_type": "display_data"
    },
    {
     "data": {
      "application/vnd.jupyter.widget-view+json": {
       "model_id": "4987ce832a254111821d3b52145fc07a",
       "version_major": 2,
       "version_minor": 0
      },
      "text/plain": [
       "raw_meta_Patio_Lawn_and_Garden_c4.parquet:   0%|          | 0.00/48.9M [00:00<?, ?B/s]"
      ]
     },
     "metadata": {},
     "output_type": "display_data"
    },
    {
     "data": {
      "application/vnd.jupyter.widget-view+json": {
       "model_id": "22560071333541c885bb92e4f296b5bc",
       "version_major": 2,
       "version_minor": 0
      },
      "text/plain": [
       "raw_meta_Pet_Supplies_c4.parquet:   0%|          | 0.00/51.3M [00:00<?, ?B/s]"
      ]
     },
     "metadata": {},
     "output_type": "display_data"
    },
    {
     "data": {
      "application/vnd.jupyter.widget-view+json": {
       "model_id": "137390dc405e4aa886d706b525731312",
       "version_major": 2,
       "version_minor": 0
      },
      "text/plain": [
       "raw_meta_Software_c4.parquet:   0%|          | 0.00/1.00M [00:00<?, ?B/s]"
      ]
     },
     "metadata": {},
     "output_type": "display_data"
    },
    {
     "data": {
      "application/vnd.jupyter.widget-view+json": {
       "model_id": "168ac139a72546729a0300789befcb84",
       "version_major": 2,
       "version_minor": 0
      },
      "text/plain": [
       "raw_meta_Sports_and_Outdoors_c4.parquet:   0%|          | 0.00/36.0M [00:00<?, ?B/s]"
      ]
     },
     "metadata": {},
     "output_type": "display_data"
    },
    {
     "data": {
      "application/vnd.jupyter.widget-view+json": {
       "model_id": "5a5de64eeb084b17b2d20d5830f48257",
       "version_major": 2,
       "version_minor": 0
      },
      "text/plain": [
       "raw_meta_Tools_and_Home_Improvement_c4.parquet:   0%|          | 0.00/85.7M [00:00<?, ?B/s]"
      ]
     },
     "metadata": {},
     "output_type": "display_data"
    },
    {
     "data": {
      "application/vnd.jupyter.widget-view+json": {
       "model_id": "443f56fd8abf48479aa279b75fb585ba",
       "version_major": 2,
       "version_minor": 0
      },
      "text/plain": [
       "raw_meta_Toys_and_Games_c4.parquet:   0%|          | 0.00/39.5M [00:00<?, ?B/s]"
      ]
     },
     "metadata": {},
     "output_type": "display_data"
    },
    {
     "data": {
      "application/vnd.jupyter.widget-view+json": {
       "model_id": "34cdec1d5c25460d917b339294e53449",
       "version_major": 2,
       "version_minor": 0
      },
      "text/plain": [
       "raw_meta_Video_Games_c4.parquet:   0%|          | 0.00/8.10M [00:00<?, ?B/s]"
      ]
     },
     "metadata": {},
     "output_type": "display_data"
    },
    {
     "data": {
      "text/plain": [
       "CommitInfo(commit_url='https://huggingface.co/datasets/apexlearningcurve/Amazon-Search-Benchmark/commit/8907e754c1f50639465ab25b5938c37c61997e8d', commit_message='Upload folder using huggingface_hub', commit_description='', oid='8907e754c1f50639465ab25b5938c37c61997e8d', pr_url=None, pr_revision=None, pr_num=None)"
      ]
     },
     "execution_count": 228,
     "metadata": {},
     "output_type": "execute_result"
    }
   ],
   "source": [
    "api.upload_folder(\n",
    "    folder_path=raw_files_dir,\n",
    "    path_in_repo=\"./raw_data\",\n",
    "    repo_id=dataset_name,\n",
    "    repo_type=\"dataset\",\n",
    ")"
   ]
  },
  {
   "cell_type": "markdown",
   "metadata": {},
   "source": [
    "# Under Construction 🚧"
   ]
  },
  {
   "cell_type": "markdown",
   "metadata": {},
   "source": [
    "## Extracting category"
   ]
  },
  {
   "cell_type": "code",
   "execution_count": 125,
   "metadata": {},
   "outputs": [],
   "source": [
    "def category_checkup(value, category):\n",
    "    if value is None:\n",
    "        return False\n",
    "    elif len(value):\n",
    "        return value[0] == category\n",
    "    else:\n",
    "        return False"
   ]
  },
  {
   "cell_type": "code",
   "execution_count": 126,
   "metadata": {},
   "outputs": [
    {
     "data": {
      "application/vnd.jupyter.widget-view+json": {
       "model_id": "9102f7266c594a32b07603aca3e6f9df",
       "version_major": 2,
       "version_minor": 0
      },
      "text/plain": [
       "  0%|          | 0/31 [00:00<?, ?it/s]"
      ]
     },
     "metadata": {},
     "output_type": "display_data"
    },
    {
     "name": "stdout",
     "output_type": "stream",
     "text": [
      "c4-raw-meta/raw_meta_CDs_and_Vinyl_c4.parquet\n",
      "c4-raw-meta/raw_meta_Beauty_and_Personal_Care_c4.parquet\n"
     ]
    }
   ],
   "source": [
    "for path in tqdm(file_paths, total=len(file_paths)):\n",
    "    df_items = pd.read_parquet(path=path, columns=columns)\n",
    "    category = (\n",
    "        path.stem[len(\"raw_meta_\") : -len(\"_c4\")].replace(\"_\", \" \").replace(\"and\", \"&\")\n",
    "    )\n",
    "    cat_mask = df_items[\"categories\"].apply(lambda x: category_checkup(x, category))\n",
    "    num_good_cat = sum(cat_mask)\n",
    "    if num_good_cat == len(df_items):\n",
    "        print(path)"
   ]
  },
  {
   "cell_type": "code",
   "execution_count": null,
   "metadata": {},
   "outputs": [],
   "source": []
  }
 ],
 "metadata": {
  "kernelspec": {
   "display_name": ".venv",
   "language": "python",
   "name": "python3"
  },
  "language_info": {
   "codemirror_mode": {
    "name": "ipython",
    "version": 3
   },
   "file_extension": ".py",
   "mimetype": "text/x-python",
   "name": "python",
   "nbconvert_exporter": "python",
   "pygments_lexer": "ipython3",
   "version": "3.10.13"
  }
 },
 "nbformat": 4,
 "nbformat_minor": 2
}
