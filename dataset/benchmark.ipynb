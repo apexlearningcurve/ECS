{
 "cells": [
  {
   "cell_type": "code",
   "execution_count": 1,
   "metadata": {},
   "outputs": [],
   "source": [
    "from pathlib import Path\n",
    "\n",
    "from datasets import load_dataset"
   ]
  },
  {
   "cell_type": "markdown",
   "metadata": {},
   "source": [
    "# Amazon C4 dataset"
   ]
  },
  {
   "cell_type": "code",
   "execution_count": 10,
   "metadata": {},
   "outputs": [
    {
     "name": "stdout",
     "output_type": "stream",
     "text": [
      "Number of data samples: 21_223\n"
     ]
    }
   ],
   "source": [
    "amacon_c4_path = \"McAuley-Lab/Amazon-C4\"\n",
    "dataset_c4 = load_dataset(path=amacon_c4_path)\n",
    "df_c4 = dataset_c4[\"test\"].to_polars()\n",
    "print(f\"Number of data samples: {len(df_c4):_}\")"
   ]
  },
  {
   "cell_type": "code",
   "execution_count": 6,
   "metadata": {},
   "outputs": [
    {
     "data": {
      "text/html": [
       "<div><style>\n",
       ".dataframe > thead > tr,\n",
       ".dataframe > tbody > tr {\n",
       "  text-align: right;\n",
       "  white-space: pre-wrap;\n",
       "}\n",
       "</style>\n",
       "<small>shape: (5, 6)</small><table border=\"1\" class=\"dataframe\"><thead><tr><th>qid</th><th>query</th><th>item_id</th><th>user_id</th><th>ori_rating</th><th>ori_review</th></tr><tr><td>i64</td><td>str</td><td>str</td><td>str</td><td>i64</td><td>str</td></tr></thead><tbody><tr><td>0</td><td>&quot;I need filters that effectivel…</td><td>&quot;B0C5QYYHTJ&quot;</td><td>&quot;AGREO2G3GTRNYOJK4CIQV2DTZLSQ&quot;</td><td>5</td><td>&quot;These filters work I could not…</td></tr><tr><td>1</td><td>&quot;I need to find a protein that …</td><td>&quot;B0C7D3VLXW&quot;</td><td>&quot;AFLIZT24MDW4XG4HBYKOI3BZGDHQ&quot;</td><td>5</td><td>&quot;Love We love this protein we’v…</td></tr><tr><td>2</td><td>&quot;I need a pillow that helps kee…</td><td>&quot;B0C3QRMPVN&quot;</td><td>&quot;AFCSK3W3GI7PGT4655HHKZ2CFFMA&quot;</td><td>5</td><td>&quot;CPAP help I use this pillow ni…</td></tr><tr><td>3</td><td>&quot;I need a memory stick that is …</td><td>&quot;B0BC13TQJQ&quot;</td><td>&quot;AGGOTCPWSQFI5YHNDLNZ63ABWZVA&quot;</td><td>5</td><td>&quot;Excellent. More than expected …</td></tr><tr><td>4</td><td>&quot;I want to buy something that m…</td><td>&quot;B07Z86PHP8&quot;</td><td>&quot;AEIIPB3DNXXLZX4VRCSVREXGCXUA&quot;</td><td>5</td><td>&quot;My children love these! My son…</td></tr></tbody></table></div>"
      ],
      "text/plain": [
       "shape: (5, 6)\n",
       "┌─────┬──────────────────────┬────────────┬─────────────────────┬────────────┬─────────────────────┐\n",
       "│ qid ┆ query                ┆ item_id    ┆ user_id             ┆ ori_rating ┆ ori_review          │\n",
       "│ --- ┆ ---                  ┆ ---        ┆ ---                 ┆ ---        ┆ ---                 │\n",
       "│ i64 ┆ str                  ┆ str        ┆ str                 ┆ i64        ┆ str                 │\n",
       "╞═════╪══════════════════════╪════════════╪═════════════════════╪════════════╪═════════════════════╡\n",
       "│ 0   ┆ I need filters that  ┆ B0C5QYYHTJ ┆ AGREO2G3GTRNYOJK4CI ┆ 5          ┆ These filters work  │\n",
       "│     ┆ effectivel…          ┆            ┆ QV2DTZLSQ           ┆            ┆ I could not…        │\n",
       "│ 1   ┆ I need to find a     ┆ B0C7D3VLXW ┆ AFLIZT24MDW4XG4HBYK ┆ 5          ┆ Love We love this   │\n",
       "│     ┆ protein that …       ┆            ┆ OI3BZGDHQ           ┆            ┆ protein we’v…       │\n",
       "│ 2   ┆ I need a pillow that ┆ B0C3QRMPVN ┆ AFCSK3W3GI7PGT4655H ┆ 5          ┆ CPAP help I use     │\n",
       "│     ┆ helps kee…           ┆            ┆ HKZ2CFFMA           ┆            ┆ this pillow ni…     │\n",
       "│ 3   ┆ I need a memory      ┆ B0BC13TQJQ ┆ AGGOTCPWSQFI5YHNDLN ┆ 5          ┆ Excellent. More     │\n",
       "│     ┆ stick that is …      ┆            ┆ Z63ABWZVA           ┆            ┆ than expected …     │\n",
       "│ 4   ┆ I want to buy        ┆ B07Z86PHP8 ┆ AEIIPB3DNXXLZX4VRCS ┆ 5          ┆ My children love    │\n",
       "│     ┆ something that m…    ┆            ┆ VREXGCXUA           ┆            ┆ these! My son…      │\n",
       "└─────┴──────────────────────┴────────────┴─────────────────────┴────────────┴─────────────────────┘"
      ]
     },
     "execution_count": 6,
     "metadata": {},
     "output_type": "execute_result"
    }
   ],
   "source": [
    "df_c4.head()"
   ]
  },
  {
   "cell_type": "code",
   "execution_count": 16,
   "metadata": {},
   "outputs": [],
   "source": [
    "c4_ids = df_c4[\"item_id\"].unique()"
   ]
  },
  {
   "cell_type": "markdown",
   "metadata": {},
   "source": [
    "# Amazon 2023 products dataset"
   ]
  },
  {
   "cell_type": "code",
   "execution_count": 12,
   "metadata": {},
   "outputs": [
    {
     "name": "stdout",
     "output_type": "stream",
     "text": [
      "Number of data samples: 117_243\n"
     ]
    }
   ],
   "source": [
    "amazon_products_23_path = \"Studeni/AMAZON-Products-2023\"\n",
    "dataset_amazon_products_23 = load_dataset(path=amazon_products_23_path)\n",
    "df_ap23 = dataset_amazon_products_23[\"train\"].to_polars()\n",
    "print(f\"Number of data samples: {len(df_ap23):_}\")"
   ]
  },
  {
   "cell_type": "code",
   "execution_count": 13,
   "metadata": {},
   "outputs": [
    {
     "data": {
      "text/html": [
       "<div><style>\n",
       ".dataframe > thead > tr,\n",
       ".dataframe > tbody > tr {\n",
       "  text-align: right;\n",
       "  white-space: pre-wrap;\n",
       "}\n",
       "</style>\n",
       "<small>shape: (5, 16)</small><table border=\"1\" class=\"dataframe\"><thead><tr><th>parent_asin</th><th>date_first_available</th><th>title</th><th>description</th><th>filename</th><th>main_category</th><th>categories</th><th>store</th><th>average_rating</th><th>rating_number</th><th>price</th><th>features</th><th>details</th><th>embeddings</th><th>image</th><th>__index_level_0__</th></tr><tr><td>str</td><td>datetime[ns]</td><td>str</td><td>str</td><td>str</td><td>str</td><td>list[str]</td><td>str</td><td>f64</td><td>f64</td><td>f64</td><td>list[str]</td><td>str</td><td>list[f64]</td><td>str</td><td>i64</td></tr></thead><tbody><tr><td>&quot;B000044U2O&quot;</td><td>2023-04-29 00:00:00</td><td>&quot;Anomie &amp; Bonhomie&quot;</td><td>&quot;Amazon.com\n",
       "Fans of Scritti Pol…</td><td>&quot;meta_Digital_Music&quot;</td><td>&quot;Digital Music&quot;</td><td>[]</td><td>&quot;Scritti Politti   Format: Audi…</td><td>4.2</td><td>56.0</td><td>null</td><td>[]</td><td>&quot;{&#x27;Date First Available&#x27;: &#x27;Apri…</td><td>[0.015389, -0.009463, … -0.022835]</td><td>&quot;https://m.media-amazon.com/ima…</td><td>1</td></tr><tr><td>&quot;B0BT4CWWC9&quot;</td><td>2023-01-26 00:00:00</td><td>&quot;Sunshine On My Shoulders: The …</td><td>&quot;“Sunshine On My Shoulders” is …</td><td>&quot;meta_Digital_Music&quot;</td><td>&quot;Digital Music&quot;</td><td>[]</td><td>&quot;John Denver   Format: Audio CD&quot;</td><td>4.7</td><td>502.0</td><td>19.98</td><td>[]</td><td>&quot;{&#x27;Package Dimensions&#x27;: &#x27;5.55 x…</td><td>[0.021719, -0.034223, … -0.015543]</td><td>&quot;https://m.media-amazon.com/ima…</td><td>2</td></tr><tr><td>&quot;B0BS4L5LP6&quot;</td><td>2023-01-11 00:00:00</td><td>&quot;18 Greatest Hits of 38 Special&quot;</td><td>&quot;Track Listings:  1. Rockin&#x27; In…</td><td>&quot;meta_Digital_Music&quot;</td><td>&quot;Digital Music&quot;</td><td>[]</td><td>&quot;38 Special  (Contributor)    F…</td><td>5.0</td><td>1.0</td><td>14.97</td><td>[]</td><td>&quot;{&#x27;Item Weight&#x27;: &#x27;4 Ounces&#x27;, &#x27;R…</td><td>[0.00431, 0.009167, … -0.010584]</td><td>&quot;https://m.media-amazon.com/ima…</td><td>5</td></tr><tr><td>&quot;B0BSPBBP89&quot;</td><td>2023-01-20 00:00:00</td><td>&quot;The Gift [CD]&quot;</td><td>&quot;Second studio album by the mul…</td><td>&quot;meta_Digital_Music&quot;</td><td>&quot;Digital Music&quot;</td><td>[]</td><td>&quot;Susan Boyle   Format: Audio CD&quot;</td><td>4.8</td><td>34.0</td><td>12.99</td><td>[]</td><td>&quot;{&#x27;Package Dimensions&#x27;: &#x27;5.59 x…</td><td>[-0.006533, 0.012574, … -0.002425]</td><td>&quot;https://m.media-amazon.com/ima…</td><td>12</td></tr><tr><td>&quot;B0BT1YG8MV&quot;</td><td>2023-01-20 00:00:00</td><td>&quot;ΤΗΕ ΒΟΟΤLΕG SΕRΙΕS VοΙ. ᛐ7 ᛐ99…</td><td>&quot;EU Edition 2CD,\n",
       "DISC ONE - TIM…</td><td>&quot;meta_Digital_Music&quot;</td><td>&quot;Digital Music&quot;</td><td>[]</td><td>&quot;ΒΟΒ DΥԼΑΝ  (Contributor)    Fo…</td><td>3.6</td><td>5.0</td><td>43.99</td><td>[]</td><td>&quot;{&#x27;Manufacturer&#x27;: &#x27;Columbia Rec…</td><td>[-0.000265, -0.014333, … -0.039675]</td><td>&quot;https://m.media-amazon.com/ima…</td><td>14</td></tr></tbody></table></div>"
      ],
      "text/plain": [
       "shape: (5, 16)\n",
       "┌───────────┬───────────┬───────────┬───────────┬───┬───────────┬───────────┬───────────┬──────────┐\n",
       "│ parent_as ┆ date_firs ┆ title     ┆ descripti ┆ … ┆ details   ┆ embedding ┆ image     ┆ __index_ │\n",
       "│ in        ┆ t_availab ┆ ---       ┆ on        ┆   ┆ ---       ┆ s         ┆ ---       ┆ level_0_ │\n",
       "│ ---       ┆ le        ┆ str       ┆ ---       ┆   ┆ str       ┆ ---       ┆ str       ┆ _        │\n",
       "│ str       ┆ ---       ┆           ┆ str       ┆   ┆           ┆ list[f64] ┆           ┆ ---      │\n",
       "│           ┆ datetime[ ┆           ┆           ┆   ┆           ┆           ┆           ┆ i64      │\n",
       "│           ┆ ns]       ┆           ┆           ┆   ┆           ┆           ┆           ┆          │\n",
       "╞═══════════╪═══════════╪═══════════╪═══════════╪═══╪═══════════╪═══════════╪═══════════╪══════════╡\n",
       "│ B000044U2 ┆ 2023-04-2 ┆ Anomie &  ┆ Amazon.co ┆ … ┆ {'Date    ┆ [0.015389 ┆ https://m ┆ 1        │\n",
       "│ O         ┆ 9         ┆ Bonhomie  ┆ m         ┆   ┆ First Ava ┆ , -0.0094 ┆ .media-am ┆          │\n",
       "│           ┆ 00:00:00  ┆           ┆ Fans of   ┆   ┆ ilable':  ┆ 63, …     ┆ azon.com/ ┆          │\n",
       "│           ┆           ┆           ┆ Scritti   ┆   ┆ 'Apri…    ┆ -0.022…   ┆ ima…      ┆          │\n",
       "│           ┆           ┆           ┆ Pol…      ┆   ┆           ┆           ┆           ┆          │\n",
       "│ B0BT4CWWC ┆ 2023-01-2 ┆ Sunshine  ┆ “Sunshine ┆ … ┆ {'Package ┆ [0.021719 ┆ https://m ┆ 2        │\n",
       "│ 9         ┆ 6         ┆ On My Sho ┆ On My Sho ┆   ┆ Dimension ┆ , -0.0342 ┆ .media-am ┆          │\n",
       "│           ┆ 00:00:00  ┆ ulders:   ┆ ulders”   ┆   ┆ s': '5.55 ┆ 23, …     ┆ azon.com/ ┆          │\n",
       "│           ┆           ┆ The …     ┆ is …      ┆   ┆ x…        ┆ -0.015…   ┆ ima…      ┆          │\n",
       "│ B0BS4L5LP ┆ 2023-01-1 ┆ 18        ┆ Track     ┆ … ┆ {'Item    ┆ [0.00431, ┆ https://m ┆ 5        │\n",
       "│ 6         ┆ 1         ┆ Greatest  ┆ Listings: ┆   ┆ Weight':  ┆ 0.009167, ┆ .media-am ┆          │\n",
       "│           ┆ 00:00:00  ┆ Hits of   ┆ 1.        ┆   ┆ '4        ┆ …         ┆ azon.com/ ┆          │\n",
       "│           ┆           ┆ 38        ┆ Rockin'   ┆   ┆ Ounces',  ┆ -0.01058… ┆ ima…      ┆          │\n",
       "│           ┆           ┆ Special   ┆ In…       ┆   ┆ 'R…       ┆           ┆           ┆          │\n",
       "│ B0BSPBBP8 ┆ 2023-01-2 ┆ The Gift  ┆ Second    ┆ … ┆ {'Package ┆ [-0.00653 ┆ https://m ┆ 12       │\n",
       "│ 9         ┆ 0         ┆ [CD]      ┆ studio    ┆   ┆ Dimension ┆ 3,        ┆ .media-am ┆          │\n",
       "│           ┆ 00:00:00  ┆           ┆ album by  ┆   ┆ s': '5.59 ┆ 0.012574, ┆ azon.com/ ┆          │\n",
       "│           ┆           ┆           ┆ the mul…  ┆   ┆ x…        ┆ … -0.002… ┆ ima…      ┆          │\n",
       "│ B0BT1YG8M ┆ 2023-01-2 ┆ ΤΗΕ       ┆ EU        ┆ … ┆ {'Manufac ┆ [-0.00026 ┆ https://m ┆ 14       │\n",
       "│ V         ┆ 0         ┆ ΒΟΟΤLΕG   ┆ Edition   ┆   ┆ turer':   ┆ 5, -0.014 ┆ .media-am ┆          │\n",
       "│           ┆ 00:00:00  ┆ SΕRΙΕS    ┆ 2CD,      ┆   ┆ 'Columbia ┆ 333, …    ┆ azon.com/ ┆          │\n",
       "│           ┆           ┆ VοΙ. ᛐ7   ┆ DISC ONE  ┆   ┆ Rec…      ┆ -0.03…    ┆ ima…      ┆          │\n",
       "│           ┆           ┆ ᛐ99…      ┆ - TIM…    ┆   ┆           ┆           ┆           ┆          │\n",
       "└───────────┴───────────┴───────────┴───────────┴───┴───────────┴───────────┴───────────┴──────────┘"
      ]
     },
     "execution_count": 13,
     "metadata": {},
     "output_type": "execute_result"
    }
   ],
   "source": [
    "df_ap23.head()"
   ]
  },
  {
   "cell_type": "code",
   "execution_count": 14,
   "metadata": {},
   "outputs": [],
   "source": [
    "ap_23_ids = df_ap23[\"parent_asin\"].unique()"
   ]
  },
  {
   "cell_type": "markdown",
   "metadata": {},
   "source": [
    "## Intersection"
   ]
  },
  {
   "cell_type": "code",
   "execution_count": 17,
   "metadata": {},
   "outputs": [
    {
     "data": {
      "text/plain": [
       "False"
      ]
     },
     "execution_count": 17,
     "metadata": {},
     "output_type": "execute_result"
    }
   ],
   "source": [
    "set(c4_ids).issubset(ap_23_ids)"
   ]
  },
  {
   "cell_type": "code",
   "execution_count": 18,
   "metadata": {},
   "outputs": [
    {
     "name": "stdout",
     "output_type": "stream",
     "text": [
      "Number od intersected IDs: 180\n"
     ]
    }
   ],
   "source": [
    "intersection = [id for id in c4_ids if id in ap_23_ids]\n",
    "print(f\"Number od intersected IDs: {len(intersection)}\")"
   ]
  },
  {
   "cell_type": "code",
   "execution_count": null,
   "metadata": {},
   "outputs": [],
   "source": []
  }
 ],
 "metadata": {
  "kernelspec": {
   "display_name": ".venv",
   "language": "python",
   "name": "python3"
  },
  "language_info": {
   "codemirror_mode": {
    "name": "ipython",
    "version": 3
   },
   "file_extension": ".py",
   "mimetype": "text/x-python",
   "name": "python",
   "nbconvert_exporter": "python",
   "pygments_lexer": "ipython3",
   "version": "3.10.13"
  }
 },
 "nbformat": 4,
 "nbformat_minor": 2
}
