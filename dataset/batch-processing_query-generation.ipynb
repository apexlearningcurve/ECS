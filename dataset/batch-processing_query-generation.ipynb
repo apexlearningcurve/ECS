{
 "cells": [
  {
   "cell_type": "code",
   "execution_count": 1,
   "metadata": {},
   "outputs": [],
   "source": [
    "import json\n",
    "import os\n",
    "import random\n",
    "from pathlib import Path\n",
    "from pprint import pprint\n",
    "\n",
    "import pandas as pd\n",
    "import tiktoken\n",
    "from datasets import load_dataset\n",
    "from huggingface_hub import hf_hub_download\n",
    "from openai import OpenAI\n",
    "from prompts import QUERY_GENERATION_PROMPT\n",
    "from pydantic import BaseModel\n",
    "from tqdm.notebook import tqdm"
   ]
  },
  {
   "cell_type": "code",
   "execution_count": 2,
   "metadata": {},
   "outputs": [],
   "source": [
    "client = OpenAI(api_key=os.environ[\"OPENAI_API_KEY\"])"
   ]
  },
  {
   "cell_type": "markdown",
   "metadata": {},
   "source": [
    "## Get dataset"
   ]
  },
  {
   "cell_type": "code",
   "execution_count": 28,
   "metadata": {},
   "outputs": [],
   "source": [
    "cache_dir = Path(\"../cache\")\n",
    "assert cache_dir.exists(), f\"Cache directory {cache_dir} does not exist\""
   ]
  },
  {
   "cell_type": "code",
   "execution_count": 29,
   "metadata": {},
   "outputs": [
    {
     "name": "stdout",
     "output_type": "stream",
     "text": [
      "Number of data rows: 21223\n"
     ]
    },
    {
     "data": {
      "text/html": [
       "<div>\n",
       "<style scoped>\n",
       "    .dataframe tbody tr th:only-of-type {\n",
       "        vertical-align: middle;\n",
       "    }\n",
       "\n",
       "    .dataframe tbody tr th {\n",
       "        vertical-align: top;\n",
       "    }\n",
       "\n",
       "    .dataframe thead th {\n",
       "        text-align: right;\n",
       "    }\n",
       "</style>\n",
       "<table border=\"1\" class=\"dataframe\">\n",
       "  <thead>\n",
       "    <tr style=\"text-align: right;\">\n",
       "      <th></th>\n",
       "      <th>query_id</th>\n",
       "      <th>query_old</th>\n",
       "      <th>item_id</th>\n",
       "    </tr>\n",
       "  </thead>\n",
       "  <tbody>\n",
       "    <tr>\n",
       "      <th>0</th>\n",
       "      <td>0</td>\n",
       "      <td>I need filters that effectively trap dust and ...</td>\n",
       "      <td>B0C5QYYHTJ</td>\n",
       "    </tr>\n",
       "    <tr>\n",
       "      <th>1</th>\n",
       "      <td>1</td>\n",
       "      <td>I need to find a protein that is super healthy...</td>\n",
       "      <td>B0C7D3VLXW</td>\n",
       "    </tr>\n",
       "    <tr>\n",
       "      <th>2</th>\n",
       "      <td>2</td>\n",
       "      <td>I need a pillow that helps keep my nasal pillo...</td>\n",
       "      <td>B0C3QRMPVN</td>\n",
       "    </tr>\n",
       "    <tr>\n",
       "      <th>3</th>\n",
       "      <td>3</td>\n",
       "      <td>I need a memory stick that is excellent and ex...</td>\n",
       "      <td>B0BC13TQJQ</td>\n",
       "    </tr>\n",
       "    <tr>\n",
       "      <th>4</th>\n",
       "      <td>4</td>\n",
       "      <td>I want to buy something that my children will ...</td>\n",
       "      <td>B07Z86PHP8</td>\n",
       "    </tr>\n",
       "  </tbody>\n",
       "</table>\n",
       "</div>"
      ],
      "text/plain": [
       "   query_id                                          query_old     item_id\n",
       "0         0  I need filters that effectively trap dust and ...  B0C5QYYHTJ\n",
       "1         1  I need to find a protein that is super healthy...  B0C7D3VLXW\n",
       "2         2  I need a pillow that helps keep my nasal pillo...  B0C3QRMPVN\n",
       "3         3  I need a memory stick that is excellent and ex...  B0BC13TQJQ\n",
       "4         4  I want to buy something that my children will ...  B07Z86PHP8"
      ]
     },
     "execution_count": 29,
     "metadata": {},
     "output_type": "execute_result"
    }
   ],
   "source": [
    "df_queries = load_dataset(\n",
    "    \"apexlearningcurve/Amazon-Search-Benchmark\", split=\"test\", cache_dir=cache_dir\n",
    ").to_pandas()\n",
    "print(f\"Number of data rows: {len(df_queries)}\")\n",
    "df_queries.head()"
   ]
  },
  {
   "cell_type": "code",
   "execution_count": 30,
   "metadata": {},
   "outputs": [
    {
     "name": "stdout",
     "output_type": "stream",
     "text": [
      "Number of unique item ids: 20463\n"
     ]
    }
   ],
   "source": [
    "item_ids = df_queries[\"item_id\"].unique().tolist()\n",
    "print(f\"Number of unique item ids: {len(item_ids)}\")"
   ]
  },
  {
   "cell_type": "markdown",
   "metadata": {},
   "source": [
    "use sampled ids instead"
   ]
  },
  {
   "cell_type": "code",
   "execution_count": 3,
   "metadata": {},
   "outputs": [],
   "source": [
    "item_ids = [\n",
    "    \"B07VDWMTXB\",\n",
    "    \"B001EYIMBU\",\n",
    "    \"B005AR7VPK\",\n",
    "    \"B081V26NPQ\",\n",
    "    \"B0B3R94BMG\",\n",
    "    \"B06W2LHJC1\",\n",
    "    \"B00WQY5VDY\",\n",
    "    \"B06XCNBR66\",\n",
    "    \"B009XATAN6\",\n",
    "    \"B08HN3LSCM\",\n",
    "    \"B07S173YK5\",\n",
    "    \"B0876K19T8\",\n",
    "    \"B07SN11TM8\",\n",
    "    \"B088DHXHLT\",\n",
    "    \"B08HCP4KNN\",\n",
    "    \"B07FLPRDFT\",\n",
    "    \"B000008LE3\",\n",
    "    \"B077F4CX89\",\n",
    "    \"B00HJLAWCY\",\n",
    "    \"B0062TZRX8\",\n",
    "    \"B092P1RGMS\",\n",
    "    \"B003J234YA\",\n",
    "    \"B089LP5R4D\",\n",
    "    \"B07N67BHQS\",\n",
    "    \"B00BYO36WU\",\n",
    "    \"B06XHHN4VD\",\n",
    "    \"B07F9V78WY\",\n",
    "    \"B00MRB1MD4\",\n",
    "    \"B06Y5K4MZN\",\n",
    "    \"B07MY2LZ51\",\n",
    "    \"B083XRKP1T\",\n",
    "    \"B08P1LPCK4\",\n",
    "    \"B09ZTSRQ5B\",\n",
    "    \"B08KLL8Z28\",\n",
    "    \"B016CFIGD4\",\n",
    "    \"B010BXYFZ6\",\n",
    "    \"B0725RR223\",\n",
    "    \"B07CM8RCPJ\",\n",
    "    \"B07SB43YTP\",\n",
    "    \"B09C4MSBYP\",\n",
    "    \"B009PFBS5M\",\n",
    "    \"B00CVMHALM\",\n",
    "    \"B088CW7B1L\",\n",
    "    \"B076616R1X\",\n",
    "    \"B014TDFW9C\",\n",
    "]"
   ]
  },
  {
   "cell_type": "markdown",
   "metadata": {},
   "source": [
    "Load product text for item ids"
   ]
  },
  {
   "cell_type": "code",
   "execution_count": 31,
   "metadata": {},
   "outputs": [],
   "source": [
    "filepath = hf_hub_download(\n",
    "    repo_id=\"apexlearningcurve/Amazon-Search-Benchmark\",\n",
    "    filename=\"sampled_item_metadata_1M_filtered.jsonl\",\n",
    "    repo_type=\"dataset\",\n",
    "    cache_dir=cache_dir,\n",
    ")"
   ]
  },
  {
   "cell_type": "code",
   "execution_count": 32,
   "metadata": {},
   "outputs": [
    {
     "name": "stdout",
     "output_type": "stream",
     "text": [
      "Number of data rows: 1055136\n"
     ]
    },
    {
     "data": {
      "text/html": [
       "<div>\n",
       "<style scoped>\n",
       "    .dataframe tbody tr th:only-of-type {\n",
       "        vertical-align: middle;\n",
       "    }\n",
       "\n",
       "    .dataframe tbody tr th {\n",
       "        vertical-align: top;\n",
       "    }\n",
       "\n",
       "    .dataframe thead th {\n",
       "        text-align: right;\n",
       "    }\n",
       "</style>\n",
       "<table border=\"1\" class=\"dataframe\">\n",
       "  <thead>\n",
       "    <tr style=\"text-align: right;\">\n",
       "      <th></th>\n",
       "      <th>item_id</th>\n",
       "      <th>title</th>\n",
       "      <th>description</th>\n",
       "      <th>file_name</th>\n",
       "    </tr>\n",
       "  </thead>\n",
       "  <tbody>\n",
       "    <tr>\n",
       "      <th>0</th>\n",
       "      <td>B0007YMVOC</td>\n",
       "      <td>Warriors of Wrestling (The Biggest,Baddest,Mea...</td>\n",
       "      <td>The Biggest, meanest and bad wrestlers of all ...</td>\n",
       "      <td>Movies &amp; TV</td>\n",
       "    </tr>\n",
       "    <tr>\n",
       "      <th>1</th>\n",
       "      <td>B004KPUHPE</td>\n",
       "      <td>Nowhere Boy</td>\n",
       "      <td>The story of former Beatle John Lennon's teen ...</td>\n",
       "      <td>Movies &amp; TV</td>\n",
       "    </tr>\n",
       "    <tr>\n",
       "      <th>2</th>\n",
       "      <td>B0015OIFPC</td>\n",
       "      <td>Malos Habitos [Ntsc/region 1 &amp; 4 Dvd. Import-l...</td>\n",
       "      <td>La fe, el amor y la banidad son puestos a prue...</td>\n",
       "      <td>Movies &amp; TV</td>\n",
       "    </tr>\n",
       "    <tr>\n",
       "      <th>3</th>\n",
       "      <td>B00KG2QONE</td>\n",
       "      <td>House of Dust</td>\n",
       "      <td>A serial killer's ghost terrorizes a group of ...</td>\n",
       "      <td>Movies &amp; TV</td>\n",
       "    </tr>\n",
       "    <tr>\n",
       "      <th>4</th>\n",
       "      <td>B00AVSERBE</td>\n",
       "      <td>20 Country Love Songs Volume 2</td>\n",
       "      <td>This DVD compilation features 20 more classic ...</td>\n",
       "      <td>Movies &amp; TV</td>\n",
       "    </tr>\n",
       "  </tbody>\n",
       "</table>\n",
       "</div>"
      ],
      "text/plain": [
       "      item_id                                              title  \\\n",
       "0  B0007YMVOC  Warriors of Wrestling (The Biggest,Baddest,Mea...   \n",
       "1  B004KPUHPE                                        Nowhere Boy   \n",
       "2  B0015OIFPC  Malos Habitos [Ntsc/region 1 & 4 Dvd. Import-l...   \n",
       "3  B00KG2QONE                                      House of Dust   \n",
       "4  B00AVSERBE                     20 Country Love Songs Volume 2   \n",
       "\n",
       "                                         description    file_name  \n",
       "0  The Biggest, meanest and bad wrestlers of all ...  Movies & TV  \n",
       "1  The story of former Beatle John Lennon's teen ...  Movies & TV  \n",
       "2  La fe, el amor y la banidad son puestos a prue...  Movies & TV  \n",
       "3  A serial killer's ghost terrorizes a group of ...  Movies & TV  \n",
       "4  This DVD compilation features 20 more classic ...  Movies & TV  "
      ]
     },
     "execution_count": 32,
     "metadata": {},
     "output_type": "execute_result"
    }
   ],
   "source": [
    "df_products = pd.read_json(filepath, lines=True)\n",
    "print(f\"Number of data rows: {len(df_products)}\")\n",
    "df_products.head()"
   ]
  },
  {
   "cell_type": "markdown",
   "metadata": {},
   "source": [
    "Clean non-existing item_ids"
   ]
  },
  {
   "cell_type": "code",
   "execution_count": 33,
   "metadata": {},
   "outputs": [],
   "source": [
    "item_ids = set(df_products[\"item_id\"].tolist()).intersection(set(item_ids))"
   ]
  },
  {
   "cell_type": "markdown",
   "metadata": {},
   "source": [
    "### Extract product text"
   ]
  },
  {
   "cell_type": "code",
   "execution_count": 34,
   "metadata": {},
   "outputs": [],
   "source": [
    "def get_product_text(row) -> str:\n",
    "    title = row[\"title\"]\n",
    "    description = row[\"description\"]\n",
    "    filename = \"Product category:\" + row[\"file_name\"]\n",
    "    text = \"\\n\".join([title, description, filename])\n",
    "    return text"
   ]
  },
  {
   "cell_type": "code",
   "execution_count": 35,
   "metadata": {},
   "outputs": [
    {
     "data": {
      "text/html": [
       "<div>\n",
       "<style scoped>\n",
       "    .dataframe tbody tr th:only-of-type {\n",
       "        vertical-align: middle;\n",
       "    }\n",
       "\n",
       "    .dataframe tbody tr th {\n",
       "        vertical-align: top;\n",
       "    }\n",
       "\n",
       "    .dataframe thead th {\n",
       "        text-align: right;\n",
       "    }\n",
       "</style>\n",
       "<table border=\"1\" class=\"dataframe\">\n",
       "  <thead>\n",
       "    <tr style=\"text-align: right;\">\n",
       "      <th></th>\n",
       "      <th>item_id</th>\n",
       "      <th>title</th>\n",
       "      <th>description</th>\n",
       "      <th>file_name</th>\n",
       "      <th>product_text</th>\n",
       "    </tr>\n",
       "  </thead>\n",
       "  <tbody>\n",
       "    <tr>\n",
       "      <th>17</th>\n",
       "      <td>B0B8JXDS86</td>\n",
       "      <td>A Man Called Otto</td>\n",
       "      <td>A grumpy widower forms an unlikely friendship ...</td>\n",
       "      <td>Movies &amp; TV</td>\n",
       "      <td>A Man Called Otto\\nA grumpy widower forms an u...</td>\n",
       "    </tr>\n",
       "    <tr>\n",
       "      <th>24</th>\n",
       "      <td>B089CZYTLL</td>\n",
       "      <td>Frasier: The Complete Series</td>\n",
       "      <td>Psychiatrist and \"Cheers\" regular Dr. Frasier ...</td>\n",
       "      <td>Movies &amp; TV</td>\n",
       "      <td>Frasier: The Complete Series\\nPsychiatrist and...</td>\n",
       "    </tr>\n",
       "    <tr>\n",
       "      <th>55</th>\n",
       "      <td>B09RF1PGLJ</td>\n",
       "      <td>Everything Everywhere All At Once</td>\n",
       "      <td>Academy Award winning Best Picture starring Ac...</td>\n",
       "      <td>Movies &amp; TV</td>\n",
       "      <td>Everything Everywhere All At Once\\nAcademy Awa...</td>\n",
       "    </tr>\n",
       "    <tr>\n",
       "      <th>110</th>\n",
       "      <td>B00111YM60</td>\n",
       "      <td>30 Days Of Night</td>\n",
       "      <td>Product Description\\nJosh Hartnett (The Black ...</td>\n",
       "      <td>Movies &amp; TV</td>\n",
       "      <td>30 Days Of Night\\nProduct Description\\nJosh Ha...</td>\n",
       "    </tr>\n",
       "    <tr>\n",
       "      <th>126</th>\n",
       "      <td>B01IWQUTY0</td>\n",
       "      <td>Deadbeat</td>\n",
       "      <td>Kevin \"Pac\" Pacalioglu (Tyler Labine) is a laz...</td>\n",
       "      <td>Movies &amp; TV</td>\n",
       "      <td>Deadbeat\\nKevin \"Pac\" Pacalioglu (Tyler Labine...</td>\n",
       "    </tr>\n",
       "  </tbody>\n",
       "</table>\n",
       "</div>"
      ],
      "text/plain": [
       "        item_id                              title  \\\n",
       "17   B0B8JXDS86                  A Man Called Otto   \n",
       "24   B089CZYTLL       Frasier: The Complete Series   \n",
       "55   B09RF1PGLJ  Everything Everywhere All At Once   \n",
       "110  B00111YM60                   30 Days Of Night   \n",
       "126  B01IWQUTY0                           Deadbeat   \n",
       "\n",
       "                                           description    file_name  \\\n",
       "17   A grumpy widower forms an unlikely friendship ...  Movies & TV   \n",
       "24   Psychiatrist and \"Cheers\" regular Dr. Frasier ...  Movies & TV   \n",
       "55   Academy Award winning Best Picture starring Ac...  Movies & TV   \n",
       "110  Product Description\\nJosh Hartnett (The Black ...  Movies & TV   \n",
       "126  Kevin \"Pac\" Pacalioglu (Tyler Labine) is a laz...  Movies & TV   \n",
       "\n",
       "                                          product_text  \n",
       "17   A Man Called Otto\\nA grumpy widower forms an u...  \n",
       "24   Frasier: The Complete Series\\nPsychiatrist and...  \n",
       "55   Everything Everywhere All At Once\\nAcademy Awa...  \n",
       "110  30 Days Of Night\\nProduct Description\\nJosh Ha...  \n",
       "126  Deadbeat\\nKevin \"Pac\" Pacalioglu (Tyler Labine...  "
      ]
     },
     "execution_count": 35,
     "metadata": {},
     "output_type": "execute_result"
    }
   ],
   "source": [
    "df_jobs = df_products[df_products[\"item_id\"].isin(item_ids)].copy()\n",
    "df_jobs[\"product_text\"] = df_jobs.apply(get_product_text, axis=1)\n",
    "df_jobs.head()"
   ]
  },
  {
   "cell_type": "markdown",
   "metadata": {},
   "source": [
    "## Test with Chat Completions"
   ]
  },
  {
   "cell_type": "code",
   "execution_count": 36,
   "metadata": {},
   "outputs": [],
   "source": [
    "class ResponseStructure(BaseModel):\n",
    "    short_query: str\n",
    "    long_query: str\n",
    "    keywords: list[str]"
   ]
  },
  {
   "cell_type": "code",
   "execution_count": 12,
   "metadata": {},
   "outputs": [],
   "source": [
    "def get_queries(prompt: str, model: str = \"gpt-4o-mini\", temperature: float = 0) -> str:\n",
    "    response = client.beta.chat.completions.parse(\n",
    "        model=model,\n",
    "        temperature=temperature,\n",
    "        response_format=ResponseStructure,\n",
    "        messages=[\n",
    "            {\"role\": \"system\", \"content\": prompt},\n",
    "        ],\n",
    "    )\n",
    "\n",
    "    return response.choices[0].message.parsed"
   ]
  },
  {
   "cell_type": "code",
   "execution_count": 13,
   "metadata": {},
   "outputs": [
    {
     "data": {
      "text/plain": [
       "\"Priority Chef Tea, Coffee, Sugar Jars, Set of 3 Glass Canisters in Black Metal Overlay, Air Tight Screw Top Lids, Perfect Storage Solution\\nDo you need a jar for your dry kitchen essentials? Make the kitchen counter and pantry clutter-free with this fantastic container jar collection. This wonderful product can free up space, and it looks good too! It's perfect for your cookies, beans, and candies. These gorgeous kitchen containers can do the job. Its lids are designed for an air-tight seal to ensure freshness. With its sleek design, this glass jar collection is a functional solution for your countertop or panty. Measuring 12 cm x 10 cm x 10 cm, each jar is designed with an ageless, classic look. This sets perfectly as a kitchen decor. What’s more, these jar containers are easy to clean. How convenient is that! These glass containers are available in 3 color variations: silver, white, and black. They make great gifts for weddings, housewarmings, or birthdays. You can also use them as party decorations. We think you're going to love this product. For a risk-free purchase, we're offering a worry-free guarantee. If you think you could have done better with the other container sets, we will give you a full refund. No hassle, no questions asked!\\nProduct category:Home & Kitchen\""
      ]
     },
     "execution_count": 13,
     "metadata": {},
     "output_type": "execute_result"
    }
   ],
   "source": [
    "random_product = df_products.iloc[random.randint(0, len(df_products))]\n",
    "product_text = get_product_text(random_product)\n",
    "product_text"
   ]
  },
  {
   "cell_type": "code",
   "execution_count": 15,
   "metadata": {},
   "outputs": [],
   "source": [
    "response = get_queries(prompt=QUERY_GENERATION_PROMPT.format(product_text=product_text))"
   ]
  },
  {
   "cell_type": "code",
   "execution_count": 16,
   "metadata": {},
   "outputs": [
    {
     "name": "stdout",
     "output_type": "stream",
     "text": [
      "{'keywords': ['Ariel costume',\n",
      "              'Disney princess dress',\n",
      "              'mermaid style outfit',\n",
      "              'girls costume',\n",
      "              'teal and lavender dress',\n",
      "              'The Little Mermaid'],\n",
      " 'long_query': 'buy Ariel Disney princess costume for kids',\n",
      " 'short_query': 'Ariel princess costume for girls'}\n"
     ]
    }
   ],
   "source": [
    "pprint(response.model_dump())"
   ]
  },
  {
   "cell_type": "code",
   "execution_count": 34,
   "metadata": {},
   "outputs": [
    {
     "name": "stdout",
     "output_type": "stream",
     "text": [
      "{'keywords': ['wrestling DVD',\n",
      "              'greatest wrestlers',\n",
      "              'American Wrestling Federation',\n",
      "              'championship matches',\n",
      "              'wrestling history',\n",
      "              '4 DVD set',\n",
      "              'action-packed wrestling'],\n",
      " 'long_query': 'top wrestling DVDs featuring legendary wrestlers',\n",
      " 'short_query': 'best wrestling DVD collection'}\n",
      "--------------------------------------------------------------------------------\n",
      "{'keywords': ['John Lennon',\n",
      "              'Beatles',\n",
      "              'teen drama',\n",
      "              'Aunt Mimi',\n",
      "              'mother relationship',\n",
      "              'biographical film'],\n",
      " 'long_query': \"Drama about John Lennon's early life story\",\n",
      " 'short_query': 'John Lennon teen drama'}\n",
      "--------------------------------------------------------------------------------\n",
      "{'keywords': ['Malos Habitos',\n",
      "              'DVD',\n",
      "              'import',\n",
      "              'Latin America',\n",
      "              \"women's stories\",\n",
      "              'food habits',\n",
      "              'NTSC',\n",
      "              'region 1',\n",
      "              'region 4'],\n",
      " 'long_query': 'Malos Habitos DVD for Latin American films',\n",
      " 'short_query': 'Malos Habitos DVD import'}\n",
      "--------------------------------------------------------------------------------\n",
      "{'keywords': ['House of Dust',\n",
      "              'horror movie',\n",
      "              'ghost story',\n",
      "              'college students',\n",
      "              'serial killer',\n",
      "              'supernatural thriller'],\n",
      " 'long_query': 'horror film about ghost haunting college students',\n",
      " 'short_query': 'ghost horror movie college students'}\n",
      "--------------------------------------------------------------------------------\n",
      "{'keywords': ['country music DVD',\n",
      "              'live performances',\n",
      "              'classic love songs',\n",
      "              'Tanya Tucker',\n",
      "              'George Jones',\n",
      "              '1984 concert',\n",
      "              'Church Street Station',\n",
      "              'country music compilation'],\n",
      " 'long_query': '20 classic country love songs live performances',\n",
      " 'short_query': 'classic country love songs DVD'}\n",
      "--------------------------------------------------------------------------------\n"
     ]
    }
   ],
   "source": [
    "# Testing on a few examples\n",
    "for _, row in df_products[:5].iterrows():\n",
    "    product_text = get_product_text(row)\n",
    "    result = get_queries(\n",
    "        prompt=QUERY_GENERATION_PROMPT.format(product_text=product_text)\n",
    "    )\n",
    "    pprint(result.model_dump())\n",
    "    print(\"-\" * 80)"
   ]
  },
  {
   "cell_type": "markdown",
   "metadata": {},
   "source": [
    "## Creating Batch Tasks"
   ]
  },
  {
   "cell_type": "code",
   "execution_count": 37,
   "metadata": {},
   "outputs": [],
   "source": [
    "def get_product_by_item_id(item_id: str) -> str:\n",
    "    product = df_products[df_products[\"item_id\"] == item_id].iloc[0]\n",
    "    product_text = get_product_text(product)\n",
    "    return product_text"
   ]
  },
  {
   "cell_type": "code",
   "execution_count": 38,
   "metadata": {},
   "outputs": [],
   "source": [
    "from openai.lib._parsing import _completions"
   ]
  },
  {
   "cell_type": "code",
   "execution_count": 39,
   "metadata": {},
   "outputs": [
    {
     "data": {
      "text/plain": [
       "{'type': 'json_schema',\n",
       " 'json_schema': {'schema': {'properties': {'short_query': {'title': 'Short Query',\n",
       "     'type': 'string'},\n",
       "    'long_query': {'title': 'Long Query', 'type': 'string'},\n",
       "    'keywords': {'items': {'type': 'string'},\n",
       "     'title': 'Keywords',\n",
       "     'type': 'array'}},\n",
       "   'required': ['short_query', 'long_query', 'keywords'],\n",
       "   'title': 'ResponseStructure',\n",
       "   'type': 'object',\n",
       "   'additionalProperties': False},\n",
       "  'name': 'ResponseStructure',\n",
       "  'strict': True}}"
      ]
     },
     "execution_count": 39,
     "metadata": {},
     "output_type": "execute_result"
    }
   ],
   "source": [
    "_completions.type_to_response_format_param(ResponseStructure)"
   ]
  },
  {
   "cell_type": "code",
   "execution_count": 40,
   "metadata": {},
   "outputs": [
    {
     "data": {
      "application/vnd.jupyter.widget-view+json": {
       "model_id": "cbd98371597c4925ab95e9b6c64f5248",
       "version_major": 2,
       "version_minor": 0
      },
      "text/plain": [
       "Generating tasks:   0%|          | 0/10 [00:00<?, ?it/s]"
      ]
     },
     "metadata": {},
     "output_type": "display_data"
    }
   ],
   "source": [
    "tasks = []\n",
    "\n",
    "for row in tqdm(\n",
    "    df_jobs[:10].itertuples(), total=len(df_jobs[:10]), desc=\"Generating tasks\"\n",
    "):\n",
    "\n",
    "    task = {\n",
    "        \"custom_id\": row.item_id,\n",
    "        \"method\": \"POST\",\n",
    "        \"url\": \"/v1/chat/completions\",\n",
    "        \"body\": {\n",
    "            # This is what you would have in your Chat Completions API call\n",
    "            \"model\": \"gpt-4o-mini\",\n",
    "            \"temperature\": 0,\n",
    "            \"response_format\": _completions.type_to_response_format_param(\n",
    "                ResponseStructure\n",
    "            ),\n",
    "            \"messages\": [\n",
    "                {\n",
    "                    \"role\": \"system\",\n",
    "                    \"content\": QUERY_GENERATION_PROMPT.format(\n",
    "                        product_text=row.product_text\n",
    "                    ),\n",
    "                },\n",
    "            ],\n",
    "        },\n",
    "    }\n",
    "\n",
    "    tasks.append(task)"
   ]
  },
  {
   "cell_type": "markdown",
   "metadata": {},
   "source": [
    "Save as jsonl"
   ]
  },
  {
   "cell_type": "code",
   "execution_count": 41,
   "metadata": {},
   "outputs": [],
   "source": [
    "output_file = Path(\"./batch_tasks_queries_v5.jsonl\")\n",
    "with open(output_file, \"w\", encoding=\"utf-8\") as f:\n",
    "    for obj in tasks:\n",
    "        f.write(json.dumps(obj) + \"\\n\")"
   ]
  },
  {
   "cell_type": "markdown",
   "metadata": {},
   "source": [
    "Upload file"
   ]
  },
  {
   "cell_type": "code",
   "execution_count": 42,
   "metadata": {},
   "outputs": [],
   "source": [
    "batch_file = client.files.create(file=open(output_file, \"rb\"), purpose=\"batch\")"
   ]
  },
  {
   "cell_type": "code",
   "execution_count": 43,
   "metadata": {},
   "outputs": [
    {
     "data": {
      "text/plain": [
       "FileObject(id='file-yHPD6aREX6Hb776dhPayIbdx', bytes=52515, created_at=1724521284, filename='batch_tasks_queries_v5.jsonl', object='file', purpose='batch', status='processed', status_details=None)"
      ]
     },
     "execution_count": 43,
     "metadata": {},
     "output_type": "execute_result"
    }
   ],
   "source": [
    "batch_file"
   ]
  },
  {
   "cell_type": "markdown",
   "metadata": {},
   "source": [
    "Creating the batch job"
   ]
  },
  {
   "cell_type": "code",
   "execution_count": 44,
   "metadata": {},
   "outputs": [],
   "source": [
    "batch_job = client.batches.create(\n",
    "    input_file_id=batch_file.id,\n",
    "    endpoint=\"/v1/chat/completions\",\n",
    "    completion_window=\"24h\",\n",
    ")"
   ]
  },
  {
   "cell_type": "markdown",
   "metadata": {},
   "source": [
    "Checking batch status"
   ]
  },
  {
   "cell_type": "code",
   "execution_count": 46,
   "metadata": {},
   "outputs": [
    {
     "name": "stdout",
     "output_type": "stream",
     "text": [
      "Batch(id='batch_xJPF3zii79gtum5wWZsX706u', completion_window='24h', created_at=1724521290, endpoint='/v1/chat/completions', input_file_id='file-yHPD6aREX6Hb776dhPayIbdx', object='batch', status='completed', cancelled_at=None, cancelling_at=None, completed_at=1724521295, error_file_id=None, errors=None, expired_at=None, expires_at=1724607690, failed_at=None, finalizing_at=1724521294, in_progress_at=1724521290, metadata=None, output_file_id='file-pHHtkdhlaJSQcqLAUECi31hn', request_counts=BatchRequestCounts(completed=10, failed=0, total=10))\n"
     ]
    }
   ],
   "source": [
    "batch_job = client.batches.retrieve(batch_job.id)\n",
    "print(batch_job)"
   ]
  },
  {
   "cell_type": "markdown",
   "metadata": {},
   "source": [
    "Retrieving results"
   ]
  },
  {
   "cell_type": "code",
   "execution_count": 47,
   "metadata": {},
   "outputs": [],
   "source": [
    "result_file_id = batch_job.output_file_id\n",
    "result = client.files.content(result_file_id).content"
   ]
  },
  {
   "cell_type": "code",
   "execution_count": 48,
   "metadata": {},
   "outputs": [],
   "source": [
    "output_file_results = Path(\"./batch_tasks_queries_results_v5.jsonl\")\n",
    "\n",
    "with open(output_file_results, \"wb\") as file:\n",
    "    file.write(result)"
   ]
  },
  {
   "cell_type": "markdown",
   "metadata": {},
   "source": [
    "Loading the results"
   ]
  },
  {
   "cell_type": "code",
   "execution_count": 49,
   "metadata": {},
   "outputs": [],
   "source": [
    "# Loading data from saved file\n",
    "results = []\n",
    "with open(output_file_results, \"r\") as file:\n",
    "    for line in file:\n",
    "        # Parsing the JSON string into a dict and appending to the list of results\n",
    "        json_object = json.loads(line.strip())\n",
    "        results.append(json_object)"
   ]
  },
  {
   "cell_type": "markdown",
   "metadata": {},
   "source": [
    "Reading the results"
   ]
  },
  {
   "cell_type": "code",
   "execution_count": 50,
   "metadata": {},
   "outputs": [
    {
     "name": "stdout",
     "output_type": "stream",
     "text": [
      "Item ID: B0B8JXDS86\n",
      "Product Text: \"A Man Called Otto\\nA grumpy widower forms an unlikely friendship with his new neighbors that turns his world around.\\nProduct category:Movies & TV\"\n",
      "{'short_query': 'A Man Called Otto movie', 'long_query': 'A Man Called Otto film about friendship', 'keywords': ['A Man Called Otto', 'comedy-drama', 'friendship', 'widower', 'new neighbors', 'heartwarming story']}\n",
      "--------------------------------------------------------------------------------\n",
      "Item ID: B089CZYTLL\n",
      "Product Text: \"Frasier: The Complete Series\\nPsychiatrist and \\\"Cheers\\\" regular Dr. Frasier Crane (Kelsey Grammer) left Boston for his hometown of Seattle and a job as a radio call-in show host, in this hit 1993-2004 spin-off. Thanks to brother Niles (David Hyde Pierce), dad Martin (John Mahoney), health care worker Daphne (Jane Leeves), and radio producer Roz (Peri Gilpin), though, things were just as aggravating on the West Coast.258 episodes on 44 discs. 98 1/4 hrs. Standard; Soundtrack: English Dolby Digital stereo.\\nProduct category:Movies & TV\"\n",
      "{'short_query': 'Frasier complete series DVD', 'long_query': 'Frasier complete series box set for sale', 'keywords': ['Frasier', 'complete series', 'DVD box set', 'TV show', 'comedy series', '44 discs', 'Kelsey Grammer']}\n",
      "--------------------------------------------------------------------------------\n",
      "Item ID: B09RF1PGLJ\n",
      "Product Text: \"Everything Everywhere All At Once\\nAcademy Award winning Best Picture starring Academy Award winner Michelle Yeoh as an overwhelmed immigrant mother who must learn to channel her newfound powers after an interdimensional rupture threatens the fate of the world.\\nProduct category:Movies & TV\"\n",
      "{'short_query': 'Everything Everywhere All At Once', 'long_query': 'Academy Award winning movie Everything Everywhere All At Once', 'keywords': ['Michelle Yeoh', 'Best Picture', 'interdimensional adventure', 'immigrant story', 'award winning film']}\n",
      "--------------------------------------------------------------------------------\n",
      "Item ID: B00111YM60\n",
      "Product Text: \"30 Days Of Night\\nProduct Description\\nJosh Hartnett (The Black Dahlia, Pearl Harbor) crosses over to the dark side in this bone-chilling adaptation of the cult-hit graphic novel, brought to the screen in all its demonic glory. In a small Alaskan town, thirty days of night is a natural phenomenon. Very few outsiders visit, until a band of bloodthirsty, deathly pale vampires mark their arrival by savagely attacking sled dogs. But soon they find there are much more satisfying thirst-quenchers about: human beings. One by one, the townspeople succumb to a living nightmare, but a small group survives -- at least for now. The vampires use the dark to their advantage, and surviving this cold hell is a game of cat and mouse...and screams.\\nAmazon.com\\nDavid (\\nHard Candy\\n) Slade directs this nerve-jangling adaptation of the popular graphic novel series about a mob of vampires that overruns a remote Alaskan town in the grip of\\n30 Days of Night\\n. Josh Hartnett and Melissa George are the film's de facto heroes (he's the stoic town sheriff and she's his estranged fire-marshal wife) but the picture's real MVP is Slade's camera (along with cinematographer Jo Willems), which careens across the town's snowy landscape to detail the vampires' horrific assault on its inhabitants, which are quickly pared down to a hardy few. The script, co-written by the source material's creator, Steve Niles, along with\\nPirates of the Caribbean\\n's Stuart Beattie and\\nHard Candy\\n's Brian Nelson), proudly wears its influences on its crimson-stained sleeve (Bram Stoker's\\nDracula\\n, natch, but also\\nSalem's Lot, Night of the Living Dead\\n, and John Carpenter's version of\\nThe Thing\\n) and boils down the graphic novels to a series of tense and extremely bloody standoffs between Harnett and George's band of survivors and the vaguely Slavic and ferocious bloodsuckers led by Marlow (a feral and frightening Danny Huston). And if the characters seem stock and the finale begs suspension of disbelief, the set pieces leading up to it are sufficiently supercharged with suspense and violence to please most horror fans. Standouts in the supporting cast are Ben Foster as the film's Renfield figure and Mark Boone Junior; the disturbing score by Brian Reitzell also merits a mention.\\n--Paul Gaita\\nStills from\\n30 Days of Night\\n(click for larger image)\\nBeyond\\n30 Days of Night\\nOn Widescreen DVD\\nAudio CD\\nHardcover Book\\nProduct category:Movies & TV\"\n",
      "{'short_query': '30 Days of Night movie', 'long_query': '30 Days of Night horror film on DVD', 'keywords': ['horror movie', 'vampire film', 'Josh Hartnett', 'graphic novel adaptation', 'Alaskan town', 'suspense thriller', 'DVD release']}\n",
      "--------------------------------------------------------------------------------\n",
      "Item ID: B01IWQUTY0\n",
      "Product Text: \"Deadbeat\\nKevin \\\"Pac\\\" Pacalioglu (Tyler Labine) is a lazy, overweight who can see ghosts. Needing to make a fresh start after losing both his ghost girlfriend and best friend/drug dealer, Pac moves into the apartment of \\\"stoner entrepreneur\\\" Clyde Shapiro (Kal Penn), an equally aimless Brooklynite who Pac meets in jail.\\nProduct category:Movies & TV\"\n",
      "{'short_query': 'Deadbeat movie DVD', 'long_query': 'Deadbeat movie with ghosts and comedy', 'keywords': ['Deadbeat', 'comedy movie', 'ghosts', 'Kevin Pacalioglu', 'Kal Penn', 'DVD', 'Brooklyn', 'stoner entrepreneur']}\n",
      "--------------------------------------------------------------------------------\n",
      "Item ID: B084QDJZSF\n",
      "Product Text: \"Slow Burn\\nSlow Burn's Leon Neyfakh excavates the strange subplots and forgotten characters involved in the downfall of a president.\\nProduct category:Movies & TV\"\n",
      "{'short_query': 'Slow Burn documentary series', 'long_query': 'Slow Burn series about presidential downfall events', 'keywords': ['Slow Burn', 'documentary series', 'presidential downfall', 'political history', 'Leon Neyfakh']}\n",
      "--------------------------------------------------------------------------------\n",
      "Item ID: B0B6NWQ7JJ\n",
      "Product Text: \"Wildcat\\nWildcat follows the inspiring story of a young veteran on his journey into the Amazon. Once there, he meets a young woman running a wildlife rescue and rehabilitation center, and his life finds new meaning as he is entrusted with the life of an orphaned baby ocelot. What was meant to be an attempt to escape from life, turns out to be an unexpected journey of love, discovery, and healing.\\nProduct category:Movies & TV\"\n",
      "{'short_query': 'Wildcat movie Amazon', 'long_query': 'Wildcat movie about wildlife rescue in Amazon', 'keywords': ['Wildcat movie', 'wildlife rescue', 'Amazon adventure', 'ocelot', 'veteran story', 'romantic drama', 'animal rehabilitation']}\n",
      "--------------------------------------------------------------------------------\n",
      "Item ID: B09YNJYG6V\n",
      "Product Text: \"NCIS: Hawaii: Season One\\nVanessa Lachey stars as Special Agent in Charge of NCIS Pearl Harbor Jane Tennant, who, with her unwavering team of specialists, balances duty, family and country, while investigating high-stakes crimes involving military personnel, national security and the mysteries of the sun-drenched island paradise itself.\\nProduct category:Movies & TV\"\n",
      "{'short_query': 'NCIS Hawaii Season One DVD', 'long_query': 'NCIS Hawaii Season One complete series DVD', 'keywords': ['NCIS', 'Hawaii', 'Season One', 'DVD', 'Vanessa Lachey', 'military crime drama', 'TV series']}\n",
      "--------------------------------------------------------------------------------\n",
      "Item ID: B09NF4J7XW\n",
      "Product Text: \"The Summer I Turned Pretty\\nBelly Conklin is about to turn 16, and she\\u2019s headed to her favorite place in the world, Cousins Beach, to spend the summer with her family and the Fishers. Belly\\u2019s grown up a lot over the past year, and she has a feeling that this summer is going to be different than all the summers before. The Summer I Turned Pretty is based on the book by Jenny Han, who is creator and executive producer.\\nProduct category:Movies & TV\"\n",
      "{'short_query': 'The Summer I Turned Pretty movie', 'long_query': 'The Summer I Turned Pretty film adaptation DVD', 'keywords': ['The Summer I Turned Pretty', 'Jenny Han', 'teen drama movie', 'Cousins Beach', 'coming of age film']}\n",
      "--------------------------------------------------------------------------------\n",
      "Item ID: B07N8GQR5C\n",
      "Product Text: \"Premium, Senior Exercise DVD System- 5 DVDs + Resistance Band + Balance Exercises + Nutrition Guide + 3 Bonus Gifts. All Exercise for Seniors are Shown Both Standing and Seated in Chair Exercise for\\nAre you looking for the best exercise program for seniors? You found it... you will feel the difference! See why we continue to get 5-star reviews and seniors all around the world follow Curtis. He truly cares and wants the best for you. He uses his 15+ years of experience to strategically craft every workout to maximize your results. Join Curtis Adams, host of national exercise TV series A New Way 2 Move, for this exciting senior DVD workout program. Grow young with Curtis.\\nThe system includes all the tools you need for maximum results: 5DVDs, resistance band, better balance guide, nutrition booklet, and workout calendar.\\nInvigorating senior exercise program with CLEAR INSTRUCTIONS that you will enjoy for years. Great workout for beginners\\nInvigorating senior exercise program with CLEAR INSTRUCTIONS that you will enjoy for years. Great workout for beginners\\nEASY-TO-FOLLOW total body senior workout program: cardio, abs, core, strength training, balance, posture, stretching\\nEASY-TO-FOLLOW total body senior workout program: cardio, abs, core, strength training, balance, posture, stretching\\nCore targeting to help TRIM YOUR WAISTLINE and strengthen your back and abs\\nCore targeting to help TRIM YOUR WAISTLINE and strengthen your back and abs\\nGreat low impact workouts which are the perfect pace for seniors but still CHALLENGING and EFFECTIVE\\nGreat low impact workouts which are the perfect pace for seniors but still CHALLENGING and EFFECTIVE\\nThese exercise are SO MUCH FUN, not slow and repetitive like many other exercise videos for seniors\\nThese exercise are SO MUCH FUN, not slow and repetitive like many other exercise videos for seniors\\nIncludes Simply Seated: the best chair workout DVD for seniors and Strength Training: the top resistance band DVD for seniors\\nIncludes Simply Seated: the best chair workout DVD for seniors and Strength Training: the top resistance band DVD for seniors\\nThis is the last senior fitness DVD you will ever buy. You'll love it! The workouts are easy-to-follow with clear instructions. It makes the perfect gift for seniors. This system will grow with you as you get stronger. Every exercise is demonstrated BOTH seated in a chair and standing, so you can go at your own pace.\\nThis senior fitness program was specifically designed for senior citizens with safety in mind. There are some exercises that are unsafe for those over 60; it is so IMPORTANT that you follow an instructor that won't put you at risk of injury.\\nIt's never too late to start. Feel great again. Get fit. Feel happy.\\nProduct category:Movies & TV\"\n",
      "{'short_query': 'senior exercise DVD system', 'long_query': 'best exercise DVDs for seniors with resistance band', 'keywords': ['senior fitness program', 'exercise DVDs', 'low impact workouts', 'resistance band', 'balance exercises', 'nutrition guide', 'chair workouts', 'Curtis Adams']}\n",
      "--------------------------------------------------------------------------------\n"
     ]
    }
   ],
   "source": [
    "# Reading only the first results\n",
    "for res in results:\n",
    "    item_id = res[\"custom_id\"]\n",
    "    result = json.loads(res[\"response\"][\"body\"][\"choices\"][0][\"message\"][\"content\"])\n",
    "    product_text = get_product_by_item_id(item_id)\n",
    "    print(f\"Item ID: {item_id}\")\n",
    "    print(f\"Product Text: {json.dumps(product_text, indent=2)}\")\n",
    "    print(result)\n",
    "    print(\"-\" * 80)"
   ]
  },
  {
   "cell_type": "code",
   "execution_count": 43,
   "metadata": {},
   "outputs": [
    {
     "data": {
      "text/plain": [
       "634"
      ]
     },
     "execution_count": 43,
     "metadata": {},
     "output_type": "execute_result"
    }
   ],
   "source": [
    "tokenizer = tiktoken.encoding_for_model(\"gpt-4o-mini\")\n",
    "len(tokenizer.encode(QUERY_GENERATION_PROMPT))"
   ]
  },
  {
   "cell_type": "code",
   "execution_count": null,
   "metadata": {},
   "outputs": [],
   "source": [
    "df_jobs"
   ]
  }
 ],
 "metadata": {
  "kernelspec": {
   "display_name": ".venv",
   "language": "python",
   "name": "python3"
  },
  "language_info": {
   "codemirror_mode": {
    "name": "ipython",
    "version": 3
   },
   "file_extension": ".py",
   "mimetype": "text/x-python",
   "name": "python",
   "nbconvert_exporter": "python",
   "pygments_lexer": "ipython3",
   "version": "3.10.13"
  }
 },
 "nbformat": 4,
 "nbformat_minor": 2
}
