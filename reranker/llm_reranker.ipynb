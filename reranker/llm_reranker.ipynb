{
 "cells": [
  {
   "cell_type": "code",
   "execution_count": 40,
   "metadata": {},
   "outputs": [],
   "source": [
    "import os\n",
    "from math import exp\n",
    "from typing import Dict, List\n",
    "\n",
    "import tiktoken\n",
    "from openai import OpenAI"
   ]
  },
  {
   "cell_type": "markdown",
   "metadata": {},
   "source": [
    "GPT - Cross Encoder"
   ]
  },
  {
   "cell_type": "code",
   "execution_count": 4,
   "metadata": {},
   "outputs": [],
   "source": [
    "client = OpenAI(api_key=os.environ[\"OPENAI_API_KEY\"])"
   ]
  },
  {
   "cell_type": "code",
   "execution_count": 8,
   "metadata": {},
   "outputs": [
    {
     "name": "stdout",
     "output_type": "stream",
     "text": [
      "Tokenizer for gpt-4o-mini: o200k_base\n"
     ]
    }
   ],
   "source": [
    "labels = [\"Yes\", \"No\"]\n",
    "MODEL_NAME = \"gpt-4o-mini\"\n",
    "tokenizer = tiktoken.encoding_for_model(MODEL_NAME)\n",
    "print(f\"Tokenizer for {MODEL_NAME}: {tokenizer.name}\")"
   ]
  },
  {
   "cell_type": "code",
   "execution_count": 15,
   "metadata": {},
   "outputs": [
    {
     "name": "stdout",
     "output_type": "stream",
     "text": [
      "Label IDs: [[13022], [3160]]\n",
      "Logit bias: {13022: 1, 3160: 1}\n"
     ]
    }
   ],
   "source": [
    "label_ids = [tokenizer.encode(label) for label in labels]\n",
    "print(f\"Label IDs: {label_ids}\")\n",
    "logit_bias = {id[0]: 1 for id in label_ids if len(id) == 1}\n",
    "print(f\"Logit bias: {logit_bias}\")"
   ]
  },
  {
   "cell_type": "code",
   "execution_count": 43,
   "metadata": {},
   "outputs": [],
   "source": [
    "ECOMMERCE_RANKING_PROMPT = '''\n",
    "You are an Assistant responsible for helping detect whether the retrieved product is relevant to the query. For a given input, you need to output a single token: \"Yes\" or \"No\" indicating the retrieved product is relevant to the query.\n",
    "\n",
    "Query: Younique setting powder\n",
    "Product: \n",
    "\"\"\"\n",
    "Younique Touch Behold Translucent Setting Powder\n",
    "\n",
    "Touch Behold Translucent Setting Powder. Younique’s Touch Behold Translucent Setting Powder effortlessly locks and loads your look so you’re ready to take on the world. Use as the finishing touch to help keep makeup in place, or wear directly on skin for a softening, matte look.\n",
    "\n",
    "product category: Beauty & Personal Care\n",
    "\"\"\"\n",
    "Relevant: Yes\n",
    "\n",
    "Query: white musk hand cream\n",
    "Product: \n",
    "\"\"\"\n",
    "Braided Hair Clips for Women Girls, Sparkling Crystal Stone Braided Hair Clips Barrette with 3 Small Clips, Triple Hair Clips with Rhinestones for Sectioning,4PCS (4pcs-Type A)\n",
    "\n",
    "product category: Beauty & Personal Care\n",
    "\"\"\"\n",
    "Relevant: No\n",
    "\n",
    "Query: HP Pavilion dm4 replacement battery\n",
    "Product: \n",
    "\"\"\"\n",
    "ATC 11.1V 6-Cell Replacement Laptop Battery for HP Pavilion dm4-1062nr Pavilion dm4-1063cl Pavilion dm4-1063he Pavilion dm4-1065dx Pavilion dm4-1070ee Pavilion dm4-1070ef\n",
    "\n",
    "product category: Electronics\n",
    "\"\"\"\n",
    "Relevant: Yes\n",
    "\n",
    "Query: Cushionaire cork sandals\n",
    "Product: \n",
    "\"\"\"\n",
    "CUSHIONAIRE Women's Lane Cozy Cork footbed Sandal with Faux fur lining and +Comfort\n",
    "\n",
    "Women's Cushionaire comfort Cork footbed sandal with Faux Fur lining. Stay cool with comfy sandals that will give you comfort throughout your day.\n",
    "\n",
    "product category: Clothing Shoes & Jewelry\n",
    "\"\"\"\n",
    "Relevant: Yes\n",
    "\n",
    "Query: under cabinet LED light\n",
    "Product: \n",
    "\"\"\"\n",
    "Christmas Snowflake Projector Lights Outdoor Led Snowfall Show with Remote Control Waterproof Landscape Decorative Lighting for Christmas Holiday Party Wedding Garden Patio\n",
    "\n",
    "product category: Tools & Home Improvement\n",
    "\"\"\"\n",
    "Relevant: No \n",
    "\n",
    "Query: {query}\n",
    "Product: \n",
    "\"\"\"\n",
    "{product_text}\n",
    "\"\"\"\n",
    "Relevant:\n",
    "'''"
   ]
  },
  {
   "cell_type": "code",
   "execution_count": 36,
   "metadata": {},
   "outputs": [],
   "source": [
    "def product_relevance(\n",
    "    client: OpenAI,\n",
    "    prompt: str,\n",
    "    model: str = MODEL_NAME,\n",
    "    temperature: float = 0.0,\n",
    "    logprobs: bool = True,\n",
    "    logit_bias: Dict[int, int] = None,\n",
    "    max_tokens: int = 1,\n",
    "):\n",
    "    response = client.chat.completions.create(\n",
    "        model=model,\n",
    "        messages=[\n",
    "            {\"role\": \"system\", \"content\": prompt},\n",
    "        ],\n",
    "        temperature=temperature,\n",
    "        logprobs=logprobs,\n",
    "        logit_bias=logit_bias,\n",
    "        max_tokens=max_tokens,\n",
    "    )\n",
    "\n",
    "    return response"
   ]
  },
  {
   "cell_type": "code",
   "execution_count": 37,
   "metadata": {},
   "outputs": [],
   "source": [
    "query = \"\"\n",
    "product_text = \"\""
   ]
  },
  {
   "cell_type": "code",
   "execution_count": 38,
   "metadata": {},
   "outputs": [],
   "source": [
    "responses = product_relevance(\n",
    "    client,\n",
    "    ECOMMERCE_RANKING_PROMPT.format(query=query, product_text=product_text),\n",
    "    logit_bias=logit_bias,\n",
    ")"
   ]
  },
  {
   "cell_type": "code",
   "execution_count": 41,
   "metadata": {},
   "outputs": [
    {
     "name": "stdout",
     "output_type": "stream",
     "text": [
      "Label: No with logprob: -3.1737043e-06 - probability: 0.9999968263007362\n"
     ]
    }
   ],
   "source": [
    "label = responses.choices[0].message.content\n",
    "logprob = responses.choices[0].logprobs.content[0].logprob\n",
    "print(f\"Label: {label} with logprob: {logprob} - probability: {exp(logprob)}\")"
   ]
  },
  {
   "cell_type": "markdown",
   "metadata": {},
   "source": [
    "## Llama - Cross Encoder"
   ]
  },
  {
   "cell_type": "code",
   "execution_count": null,
   "metadata": {},
   "outputs": [],
   "source": []
  }
 ],
 "metadata": {
  "kernelspec": {
   "display_name": ".venv",
   "language": "python",
   "name": "python3"
  },
  "language_info": {
   "codemirror_mode": {
    "name": "ipython",
    "version": 3
   },
   "file_extension": ".py",
   "mimetype": "text/x-python",
   "name": "python",
   "nbconvert_exporter": "python",
   "pygments_lexer": "ipython3",
   "version": "3.10.13"
  }
 },
 "nbformat": 4,
 "nbformat_minor": 2
}
