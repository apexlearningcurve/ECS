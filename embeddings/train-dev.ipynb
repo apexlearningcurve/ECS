{
 "cells": [
  {
   "cell_type": "code",
   "execution_count": 5,
   "metadata": {},
   "outputs": [],
   "source": [
    "import os\n",
    "\n",
    "from datasets import load_dataset\n",
    "from huggingface_hub import login"
   ]
  },
  {
   "cell_type": "markdown",
   "metadata": {},
   "source": [
    "## Hugging Face Login"
   ]
  },
  {
   "cell_type": "markdown",
   "metadata": {},
   "source": [
    "Add Hugging Face Token to the `.env` file.\n",
    "```bash\n",
    "HF_TOKEN=<YOUR_HF_TOKEN>\n",
    "```"
   ]
  },
  {
   "cell_type": "code",
   "execution_count": 6,
   "metadata": {},
   "outputs": [
    {
     "name": "stdout",
     "output_type": "stream",
     "text": [
      "Token is valid (permission: fineGrained).\n",
      "Your token has been saved in your configured git credential helpers (osxkeychain,store).\n",
      "Your token has been saved to /Users/studeni/.cache/huggingface/token\n",
      "Login successful\n"
     ]
    }
   ],
   "source": [
    "login(token=os.environ[\"HF_TOKEN\"], add_to_git_credential=True)"
   ]
  },
  {
   "cell_type": "markdown",
   "metadata": {},
   "source": [
    "## Prepare Dataset"
   ]
  },
  {
   "cell_type": "markdown",
   "metadata": {},
   "source": [
    "My dataset has the following format:\n",
    "```Python\n",
    "{\"query\": \"<query>\", \"product_text\": \"<relevant product_text to user query>\"}\n",
    "{\"query\": \"<query>\", \"product_text\": \"<relevant product_text to user query>\"}\n",
    "{\"query\": \"<query>\", \"product_text\": \"<relevant product_text to user query>\"}\n",
    "```"
   ]
  },
  {
   "cell_type": "code",
   "execution_count": null,
   "metadata": {},
   "outputs": [],
   "source": [
    "dataset_id = \"studeni/<dataset_name>\"\n",
    "split = \"train\""
   ]
  },
  {
   "cell_type": "code",
   "execution_count": null,
   "metadata": {},
   "outputs": [],
   "source": [
    "# Load dataset\n",
    "dataset = load_dataset(path=dataset_id, split=split)\n",
    "# Rename columns\n",
    "dataset = dataset.rename_columns(\n",
    "    column_mapping={\"query\": \"anchor\", \"product_text\": \"positive\"}\n",
    ")\n",
    "# Add   an id column to the dataset\n",
    "dataset = dataset.add_column(name=\"id\", column=range(len(dataset)))\n",
    "\n",
    "# Split the dataset into a 10% test set"
   ]
  }
 ],
 "metadata": {
  "kernelspec": {
   "display_name": ".venv",
   "language": "python",
   "name": "python3"
  },
  "language_info": {
   "codemirror_mode": {
    "name": "ipython",
    "version": 3
   },
   "file_extension": ".py",
   "mimetype": "text/x-python",
   "name": "python",
   "nbconvert_exporter": "python",
   "pygments_lexer": "ipython3",
   "version": "3.10.13"
  }
 },
 "nbformat": 4,
 "nbformat_minor": 2
}
